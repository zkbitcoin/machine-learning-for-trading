{
 "cells": [
  {
   "cell_type": "markdown",
   "metadata": {},
   "source": [
    "# How to use decision trees to predict equity returns and price moves"
   ]
  },
  {
   "cell_type": "markdown",
   "metadata": {},
   "source": [
    "In this notebook, we illustrate how to use tree-based models to gain insight and make predictions. \n",
    "\n",
    "To demonstrate regression trees we predict returns, and for the classification case, we return to the example of positive and negative asset price moves."
   ]
  },
  {
   "cell_type": "markdown",
   "metadata": {},
   "source": [
    "## Imports & Settings"
   ]
  },
  {
   "cell_type": "code",
   "execution_count": null,
   "metadata": {
    "ExecuteTime": {
     "end_time": "2021-04-16T00:32:25.352734Z",
     "start_time": "2021-04-16T00:32:25.350697Z"
    }
   },
   "outputs": [],
   "source": [
    "import warnings\n",
    "warnings.filterwarnings('ignore')"
   ]
  },
  {
   "cell_type": "code",
   "execution_count": null,
   "metadata": {
    "ExecuteTime": {
     "end_time": "2021-04-16T00:32:26.702500Z",
     "start_time": "2021-04-16T00:32:25.552972Z"
    }
   },
   "outputs": [],
   "source": [
    "%matplotlib inline\n",
    "\n",
    "import os, sys\n",
    "from pathlib import Path\n",
    "\n",
    "import numpy as np\n",
    "from scipy.stats import spearmanr\n",
    "import pandas as pd\n",
    "\n",
    "import matplotlib.pyplot as plt\n",
    "from matplotlib.ticker import FuncFormatter\n",
    "from matplotlib import cm\n",
    "import seaborn as sns\n",
    "\n",
    "from sklearn.tree import DecisionTreeClassifier, DecisionTreeRegressor, export_graphviz, _tree\n",
    "from sklearn.linear_model import LinearRegression, LogisticRegression\n",
    "from sklearn.model_selection import train_test_split, GridSearchCV, learning_curve\n",
    "from sklearn.metrics import roc_auc_score, roc_curve, mean_squared_error, make_scorer\n",
    "import graphviz\n",
    "\n",
    "import statsmodels.api as sm"
   ]
  },
  {
   "cell_type": "code",
   "execution_count": null,
   "metadata": {
    "ExecuteTime": {
     "end_time": "2021-04-16T00:32:26.708683Z",
     "start_time": "2021-04-16T00:32:26.703952Z"
    }
   },
   "outputs": [],
   "source": [
    "#sys.path.insert(1, os.path.join(sys.path[0], '..'))\n",
    "current_dir = os.getcwd()\n",
    "\n",
    "# Construct the path to the parent directory\n",
    "parent_dir = os.path.abspath(os.path.join(current_dir, '..'))\n",
    "\n",
    "# Add the parent directory to sys.path\n",
    "sys.path.insert(0, parent_dir)\n",
    "from utils import MultipleTimeSeriesCV"
   ]
  },
  {
   "cell_type": "code",
   "execution_count": null,
   "metadata": {
    "ExecuteTime": {
     "end_time": "2021-04-16T00:32:26.721121Z",
     "start_time": "2021-04-16T00:32:26.709927Z"
    }
   },
   "outputs": [],
   "source": [
    "sns.set_style('white')"
   ]
  },
  {
   "cell_type": "code",
   "execution_count": null,
   "metadata": {
    "ExecuteTime": {
     "end_time": "2021-04-16T00:32:26.730830Z",
     "start_time": "2021-04-16T00:32:26.722176Z"
    }
   },
   "outputs": [],
   "source": [
    "results_path = Path('results', 'decision_trees')\n",
    "if not results_path.exists():\n",
    "    results_path.mkdir(parents=True)"
   ]
  },
  {
   "cell_type": "markdown",
   "metadata": {},
   "source": [
    "## Load Model Data"
   ]
  },
  {
   "cell_type": "markdown",
   "metadata": {},
   "source": [
    "We use a simplified version of the data set constructed in Chapter 4, Alpha factor research. It consists of daily stock prices provided by Quandl for the 2010-2017 period and various engineered features. The details can be found in the notebook [data_prep](00_data_prep.ipynb) in the GitHub repo for this chapter."
   ]
  },
  {
   "cell_type": "markdown",
   "metadata": {},
   "source": [
    "The decision tree models in this chapter are not equipped to handle missing or categorical variables, so we will apply dummy encoding to the latter after dropping any of the former."
   ]
  },
  {
   "cell_type": "code",
   "execution_count": null,
   "metadata": {
    "ExecuteTime": {
     "end_time": "2021-04-16T00:32:30.995569Z",
     "start_time": "2021-04-16T00:32:30.805133Z"
    },
    "scrolled": true
   },
   "outputs": [],
   "source": [
    "with pd.HDFStore('data.h5') as store:\n",
    "    data = store['us/equities/monthly']\n",
    "data.info()"
   ]
  },
  {
   "cell_type": "markdown",
   "metadata": {},
   "source": [
    "## Simple Regression Tree with Time Series Data"
   ]
  },
  {
   "cell_type": "markdown",
   "metadata": {},
   "source": [
    "Regression trees make predictions based on the mean outcome value for the training samples assigned to a given node and typically rely on the mean-squared error to select optimal rules during recursive binary splitting.\n",
    "\n",
    "Given a training set, the algorithm iterates over the predictors, $X_1, X_2, ..., X_p$, and possible cutpoints, $s_1, s_2, ..., s_N$, to find an optimal combination. The optimal rule splits the feature space into two regions, $\\{X\\mid X_i < s_j\\}$ and $\\{X\\mid X_i > s_j\\}$, with values for the $X_i$ feature either below or above the $s_j$ threshold so that predictions based on the training subsets maximize the reduction of the squared residuals relative to the current node."
   ]
  },
  {
   "cell_type": "markdown",
   "metadata": {},
   "source": [
    "### Generate two lags of monthly returns"
   ]
  },
  {
   "cell_type": "code",
   "execution_count": null,
   "metadata": {
    "ExecuteTime": {
     "end_time": "2021-04-16T00:32:38.965107Z",
     "start_time": "2021-04-16T00:32:38.942472Z"
    },
    "scrolled": true
   },
   "outputs": [],
   "source": [
    "X2 = data.loc[:, ['target', 'return_1m']]\n",
    "X2.columns = ['y', 't-1']\n",
    "X2['t-2'] = data.groupby(level='ticker').return_1m.shift()\n",
    "X2 = X2.dropna()\n",
    "X2.info()"
   ]
  },
  {
   "cell_type": "code",
   "execution_count": null,
   "metadata": {
    "ExecuteTime": {
     "end_time": "2021-04-16T00:32:38.969598Z",
     "start_time": "2021-04-16T00:32:38.966574Z"
    }
   },
   "outputs": [],
   "source": [
    "y2 = X2.y\n",
    "X2 = X2.drop('y', axis=1)"
   ]
  },
  {
   "cell_type": "markdown",
   "metadata": {},
   "source": [
    "### Explore Data"
   ]
  },
  {
   "cell_type": "markdown",
   "metadata": {},
   "source": [
    "Note the small spike where we clipped the data."
   ]
  },
  {
   "cell_type": "code",
   "execution_count": null,
   "metadata": {
    "ExecuteTime": {
     "end_time": "2021-04-16T00:32:39.517083Z",
     "start_time": "2021-04-16T00:32:38.970753Z"
    }
   },
   "outputs": [],
   "source": [
    "sns.distplot(y2)\n",
    "sns.despine();"
   ]
  },
  {
   "cell_type": "markdown",
   "metadata": {},
   "source": [
    "### Configure Tree"
   ]
  },
  {
   "cell_type": "markdown",
   "metadata": {},
   "source": [
    "Let's start with a simplified example to facilitate visualization and only use two months of lagged returns to predict the following month, in the vein of an AR(2) model from the last chapter:"
   ]
  },
  {
   "cell_type": "code",
   "execution_count": null,
   "metadata": {
    "ExecuteTime": {
     "end_time": "2021-04-16T00:32:39.521903Z",
     "start_time": "2021-04-16T00:32:39.518821Z"
    }
   },
   "outputs": [],
   "source": [
    "reg_tree_t2 = DecisionTreeRegressor(criterion='squared_error',\n",
    "                                    splitter='best',\n",
    "                                    max_depth=6,\n",
    "                                    min_samples_split=2,\n",
    "                                    min_samples_leaf=50,\n",
    "                                    min_weight_fraction_leaf=0.0,\n",
    "                                    max_features=None,\n",
    "                                    random_state=42,\n",
    "                                    max_leaf_nodes=None,\n",
    "                                    min_impurity_decrease=0.0)"
   ]
  },
  {
   "cell_type": "markdown",
   "metadata": {},
   "source": [
    "### Train Decision Tree"
   ]
  },
  {
   "cell_type": "code",
   "execution_count": null,
   "metadata": {
    "ExecuteTime": {
     "end_time": "2021-04-16T00:32:46.840780Z",
     "start_time": "2021-04-16T00:32:39.523207Z"
    }
   },
   "outputs": [],
   "source": [
    "%%timeit\n",
    "reg_tree_t2.fit(X=X2, y=y2)"
   ]
  },
  {
   "cell_type": "code",
   "execution_count": null,
   "metadata": {
    "ExecuteTime": {
     "end_time": "2021-04-16T00:32:46.944042Z",
     "start_time": "2021-04-16T00:32:46.846638Z"
    }
   },
   "outputs": [],
   "source": [
    "reg_tree_t2.fit(X=X2, y=y2)"
   ]
  },
  {
   "cell_type": "markdown",
   "metadata": {},
   "source": [
    "### Visualize Tree"
   ]
  },
  {
   "cell_type": "markdown",
   "metadata": {},
   "source": [
    "You can visualize the tree using the graphviz library (see GitHub for installation instructions) because sklearn can output a description of the tree using the .dot language used by that library. \n",
    "\n",
    "You can configure the output to include feature and class labels and limit the number of levels to keep the chart readable, as follows:"
   ]
  },
  {
   "cell_type": "code",
   "execution_count": null,
   "metadata": {
    "ExecuteTime": {
     "end_time": "2021-04-16T00:32:46.993321Z",
     "start_time": "2021-04-16T00:32:46.945531Z"
    }
   },
   "outputs": [],
   "source": [
    "out_file = results_path / 'reg_tree_t2.dot'\n",
    "dot_data = export_graphviz(reg_tree_t2,\n",
    "                          out_file=out_file.as_posix(),\n",
    "                          feature_names=X2.columns,\n",
    "                          max_depth=2,\n",
    "                          filled=True,\n",
    "                          rounded=True,\n",
    "                          special_characters=True)\n",
    "if out_file is not None:\n",
    "    dot_data = Path(out_file).read_text()\n",
    "\n",
    "graphviz.Source(dot_data)"
   ]
  },
  {
   "cell_type": "markdown",
   "metadata": {},
   "source": [
    "### Compare with Linear Regression"
   ]
  },
  {
   "cell_type": "markdown",
   "metadata": {},
   "source": [
    "The OLS summary below and a visualization of the first two levels of the decision tree above reveal the striking differences between the models. The OLS model provides three parameters for the intercepts and the two features in line with the linear assumption.\n",
    "\n",
    "In contrast, the regression tree chart above displays for each node of the first two levels the feature and threshold used to split the data (note that features can be used repeatedly), as well as the current value of the mean-squared error (MSE), the number of samples, and predicted value based on these training samples."
   ]
  },
  {
   "cell_type": "markdown",
   "metadata": {},
   "source": [
    "The tree chart also highlights the uneven distribution of samples across the nodes as the numbers vary between 31,000 and 65,000 samples after only two splits."
   ]
  },
  {
   "cell_type": "markdown",
   "metadata": {},
   "source": [
    "#### statsmodels OLS"
   ]
  },
  {
   "cell_type": "code",
   "execution_count": null,
   "metadata": {
    "ExecuteTime": {
     "end_time": "2021-04-16T00:32:47.020618Z",
     "start_time": "2021-04-16T00:32:46.994715Z"
    },
    "scrolled": true
   },
   "outputs": [],
   "source": [
    "ols_model = sm.OLS(endog=y2, exog=sm.add_constant(X2))"
   ]
  },
  {
   "cell_type": "code",
   "execution_count": null,
   "metadata": {
    "ExecuteTime": {
     "end_time": "2021-04-16T00:32:50.247927Z",
     "start_time": "2021-04-16T00:32:47.021772Z"
    }
   },
   "outputs": [],
   "source": [
    "%%timeit\n",
    "ols_model.fit()"
   ]
  },
  {
   "cell_type": "code",
   "execution_count": null,
   "metadata": {
    "ExecuteTime": {
     "end_time": "2021-04-16T00:32:50.306911Z",
     "start_time": "2021-04-16T00:32:50.249060Z"
    }
   },
   "outputs": [],
   "source": [
    "result = ols_model.fit()\n",
    "print(result.summary())"
   ]
  },
  {
   "cell_type": "markdown",
   "metadata": {},
   "source": [
    "#### sklearn Linear Regression"
   ]
  },
  {
   "cell_type": "code",
   "execution_count": null,
   "metadata": {
    "ExecuteTime": {
     "end_time": "2021-04-16T00:32:50.311548Z",
     "start_time": "2021-04-16T00:32:50.309603Z"
    }
   },
   "outputs": [],
   "source": [
    "lin_reg = LinearRegression()"
   ]
  },
  {
   "cell_type": "code",
   "execution_count": null,
   "metadata": {
    "ExecuteTime": {
     "end_time": "2021-04-16T00:32:52.560013Z",
     "start_time": "2021-04-16T00:32:50.312750Z"
    }
   },
   "outputs": [],
   "source": [
    "%%timeit\n",
    "lin_reg.fit(X=X2,y=y2)"
   ]
  },
  {
   "cell_type": "code",
   "execution_count": null,
   "metadata": {
    "ExecuteTime": {
     "end_time": "2021-04-16T00:32:52.647179Z",
     "start_time": "2021-04-16T00:32:52.560943Z"
    }
   },
   "outputs": [],
   "source": [
    "lin_reg.fit(X=X2,y=y2)"
   ]
  },
  {
   "cell_type": "code",
   "execution_count": null,
   "metadata": {
    "ExecuteTime": {
     "end_time": "2021-04-16T00:32:52.651998Z",
     "start_time": "2021-04-16T00:32:52.648519Z"
    }
   },
   "outputs": [],
   "source": [
    "lin_reg.intercept_"
   ]
  },
  {
   "cell_type": "code",
   "execution_count": null,
   "metadata": {
    "ExecuteTime": {
     "end_time": "2021-04-16T00:32:52.681349Z",
     "start_time": "2021-04-16T00:32:52.653554Z"
    }
   },
   "outputs": [],
   "source": [
    "lin_reg.coef_"
   ]
  },
  {
   "cell_type": "markdown",
   "metadata": {},
   "source": [
    "### Linear Regression vs Regression Tree Decision Surfaces"
   ]
  },
  {
   "cell_type": "markdown",
   "metadata": {},
   "source": [
    "To further illustrate the different assumptions about the functional form of the relationships between the input variables and the output, we can visualize current return predictions as a function of the feature space, that is, as a function of the range of values for the lagged returns. The following figure shows the current period return as a function of returns one and two periods ago for linear regression and the regression tree:\n",
    "\n",
    "The linear-regression model result on the right side underlines the linearity of the relationship between lagged and current returns, whereas the regression tree chart on the left illustrates the non-linear relationship encoded in the recursive partitioning of the feature space."
   ]
  },
  {
   "cell_type": "code",
   "execution_count": null,
   "metadata": {
    "ExecuteTime": {
     "end_time": "2021-04-16T00:32:52.741131Z",
     "start_time": "2021-04-16T00:32:52.716930Z"
    }
   },
   "outputs": [],
   "source": [
    "t1, t2 = np.meshgrid(np.linspace(X2['t-1'].quantile(.01), X2['t-1'].quantile(.99), 100),\n",
    "                     np.linspace(X2['t-2'].quantile(.01), X2['t-2'].quantile(.99), 100))\n",
    "X_data = np.c_[t1.ravel(), t2.ravel()]"
   ]
  },
  {
   "cell_type": "code",
   "execution_count": null,
   "metadata": {
    "ExecuteTime": {
     "end_time": "2021-04-16T00:32:53.406640Z",
     "start_time": "2021-04-16T00:32:52.742829Z"
    }
   },
   "outputs": [],
   "source": [
    "fig, axes = plt.subplots(ncols=2, figsize=(12,5))\n",
    "\n",
    "# Linear Regression\n",
    "ret1 = lin_reg.predict(X_data).reshape(t1.shape)\n",
    "surface1 = axes[0].contourf(t1, t2, ret1, cmap='Blues')\n",
    "plt.colorbar(mappable=surface1, ax=axes[0])\n",
    "\n",
    "# Regression Tree\n",
    "ret2 = reg_tree_t2.predict(X_data).reshape(t1.shape)\n",
    "surface2 = axes[1].contourf(t1, t2, ret2, cmap='Blues')\n",
    "plt.colorbar(mappable=surface2, ax=axes[1])\n",
    "\n",
    "# Format plots\n",
    "titles = ['Linear Regression', 'Regression Tree']\n",
    "for i, ax in enumerate(axes):\n",
    "    ax.set_xlabel('t-1')\n",
    "    ax.set_ylabel('t-2')\n",
    "    ax.set_title(titles[i])\n",
    "\n",
    "fig.suptitle('Decision Surfaces', fontsize=14)\n",
    "sns.despine()\n",
    "fig.tight_layout()\n",
    "fig.subplots_adjust(top=.9);"
   ]
  },
  {
   "cell_type": "markdown",
   "metadata": {},
   "source": [
    "## Simple Classification Tree with Time Series Data"
   ]
  },
  {
   "cell_type": "markdown",
   "metadata": {},
   "source": [
    "A classification tree works just like the regression version, except that categorical nature of the outcome requires a different approach to making predictions and measuring the loss. While a regression tree predicts the response for an observation assigned to a leaf node using the mean outcome of the associated training samples, a classification tree instead uses the mode, that is, the most common class among the training samples in the relevant region. A classification tree can also generate probabilistic predictions based on relative class frequencies."
   ]
  },
  {
   "cell_type": "markdown",
   "metadata": {},
   "source": [
    "### Loss Functions"
   ]
  },
  {
   "cell_type": "markdown",
   "metadata": {},
   "source": [
    "When growing a classification tree, we also use recursive binary splitting but, instead of evaluating the quality of a decision rule using the reduction of the mean-squared error, we can use the classification error rate, which is simply the fraction of the training samples in a given (leave) node that do not belong to the most common class."
   ]
  },
  {
   "cell_type": "markdown",
   "metadata": {},
   "source": [
    "However, the alternative measures, Gini Index or Cross-Entropy, are preferred because they are more sensitive to node purity than the classification error rate. Node purity refers to the extent of the preponderance of a single class in a node. A node that only contains samples with outcomes belonging to a single class is pure and imply successful classification for this particular region of the feature space. "
   ]
  },
  {
   "cell_type": "code",
   "execution_count": null,
   "metadata": {
    "ExecuteTime": {
     "end_time": "2021-04-16T00:32:53.411641Z",
     "start_time": "2021-04-16T00:32:53.409446Z"
    }
   },
   "outputs": [],
   "source": [
    "def entropy(f):\n",
    "    return (-f*np.log2(f) - (1-f)*np.log2(1-f))/2"
   ]
  },
  {
   "cell_type": "code",
   "execution_count": null,
   "metadata": {
    "ExecuteTime": {
     "end_time": "2021-04-16T00:32:53.426940Z",
     "start_time": "2021-04-16T00:32:53.414041Z"
    }
   },
   "outputs": [],
   "source": [
    "def gini(f):\n",
    "    return 2*f*(1-f)"
   ]
  },
  {
   "cell_type": "code",
   "execution_count": null,
   "metadata": {
    "ExecuteTime": {
     "end_time": "2021-04-16T00:32:53.447019Z",
     "start_time": "2021-04-16T00:32:53.443818Z"
    }
   },
   "outputs": [],
   "source": [
    "def misclassification_rate(f):\n",
    "    return np.where(f<=.5, f, 1-f)"
   ]
  },
  {
   "cell_type": "markdown",
   "metadata": {},
   "source": [
    "Both the Gini Impurity and the Cross-Entropy measure take on smaller values when the class proportions approach zero or one, that is, when the child nodes become pure as a result of the split and are highest when the class proportions are even or 0.5 in the binary case. \n",
    "\n",
    "The chart below visualizes the values assumed by these two measures and the misclassification error rates across the [0, 1] interval of proportions."
   ]
  },
  {
   "cell_type": "code",
   "execution_count": null,
   "metadata": {
    "ExecuteTime": {
     "end_time": "2021-04-16T00:32:53.721436Z",
     "start_time": "2021-04-16T00:32:53.452115Z"
    }
   },
   "outputs": [],
   "source": [
    "x = np.linspace(0, 1, 10000)\n",
    "(pd.DataFrame({'Gini': gini(x), \n",
    "              'Entropy': entropy(x),\n",
    "             'Misclassification Rate': misclassification_rate(x)}, index=x)\n",
    " .plot(title='Classification Loss Functions', lw=2, style=['-', '--', ':']))\n",
    "sns.despine()\n",
    "plt.tight_layout();"
   ]
  },
  {
   "cell_type": "markdown",
   "metadata": {},
   "source": [
    "#### Compare computation time"
   ]
  },
  {
   "cell_type": "markdown",
   "metadata": {},
   "source": [
    "Gini is often preferred over entropy because it computes faster:"
   ]
  },
  {
   "cell_type": "code",
   "execution_count": null,
   "metadata": {
    "ExecuteTime": {
     "end_time": "2021-04-16T00:33:08.588281Z",
     "start_time": "2021-04-16T00:32:53.723873Z"
    }
   },
   "outputs": [],
   "source": [
    "%%timeit\n",
    "misclassification_rate(x)"
   ]
  },
  {
   "cell_type": "code",
   "execution_count": null,
   "metadata": {
    "ExecuteTime": {
     "end_time": "2021-04-16T00:33:18.035051Z",
     "start_time": "2021-04-16T00:33:08.589304Z"
    }
   },
   "outputs": [],
   "source": [
    "%%timeit\n",
    "gini(x)"
   ]
  },
  {
   "cell_type": "code",
   "execution_count": null,
   "metadata": {
    "ExecuteTime": {
     "end_time": "2021-04-16T00:33:19.423307Z",
     "start_time": "2021-04-16T00:33:18.036362Z"
    }
   },
   "outputs": [],
   "source": [
    "%%timeit\n",
    "entropy(x)"
   ]
  },
  {
   "cell_type": "markdown",
   "metadata": {},
   "source": [
    "### Configure Tree"
   ]
  },
  {
   "cell_type": "code",
   "execution_count": null,
   "metadata": {
    "ExecuteTime": {
     "end_time": "2021-04-16T00:33:19.427483Z",
     "start_time": "2021-04-16T00:33:19.424763Z"
    }
   },
   "outputs": [],
   "source": [
    "clf_tree_t2 = DecisionTreeClassifier(criterion='gini',\n",
    "                                     splitter='best',\n",
    "                                     max_depth=5,\n",
    "                                     min_samples_split=1000,\n",
    "                                     min_samples_leaf=1,\n",
    "                                     min_weight_fraction_leaf=0.0,\n",
    "                                     max_features=None,\n",
    "                                     random_state=42,\n",
    "                                     max_leaf_nodes=None,\n",
    "                                     min_impurity_decrease=0.0,\n",
    "                                     class_weight=None)"
   ]
  },
  {
   "cell_type": "markdown",
   "metadata": {},
   "source": [
    "### Train Tree"
   ]
  },
  {
   "cell_type": "code",
   "execution_count": null,
   "metadata": {
    "ExecuteTime": {
     "end_time": "2021-04-16T00:33:19.460489Z",
     "start_time": "2021-04-16T00:33:19.428704Z"
    }
   },
   "outputs": [],
   "source": [
    "y_binary = (y2>0).astype(int)\n",
    "y_binary.value_counts()"
   ]
  },
  {
   "cell_type": "code",
   "execution_count": null,
   "metadata": {
    "ExecuteTime": {
     "end_time": "2021-04-16T00:33:26.269743Z",
     "start_time": "2021-04-16T00:33:19.461996Z"
    },
    "scrolled": true
   },
   "outputs": [],
   "source": [
    "%%timeit\n",
    "clf_tree_t2.fit(X=X2, y=y_binary)"
   ]
  },
  {
   "cell_type": "code",
   "execution_count": null,
   "metadata": {
    "ExecuteTime": {
     "end_time": "2021-04-16T00:33:26.363009Z",
     "start_time": "2021-04-16T00:33:26.270887Z"
    }
   },
   "outputs": [],
   "source": [
    "clf_tree_t2.fit(X=X2, y=y_binary)"
   ]
  },
  {
   "cell_type": "markdown",
   "metadata": {},
   "source": [
    "### Visualize Tree"
   ]
  },
  {
   "cell_type": "code",
   "execution_count": null,
   "metadata": {
    "ExecuteTime": {
     "end_time": "2021-04-16T00:33:26.404932Z",
     "start_time": "2021-04-16T00:33:26.363983Z"
    }
   },
   "outputs": [],
   "source": [
    "out_file = results_path / 'clf_tree_t2.dot'\n",
    "dot_data = export_graphviz(clf_tree_t2,\n",
    "                           out_file=out_file.as_posix(),\n",
    "                           feature_names=X2.columns,\n",
    "                           class_names=['Down', 'Up'],\n",
    "                           max_depth=2,\n",
    "                           filled=True,\n",
    "                           rounded=True,\n",
    "                           special_characters=True)\n",
    "if out_file is not None:\n",
    "    dot_data = Path(out_file).read_text()\n",
    "\n",
    "graphviz.Source(dot_data)"
   ]
  },
  {
   "cell_type": "markdown",
   "metadata": {},
   "source": [
    "### Compare with Logistic Regression"
   ]
  },
  {
   "cell_type": "markdown",
   "metadata": {},
   "source": [
    "#### Statsmodels"
   ]
  },
  {
   "cell_type": "code",
   "execution_count": null,
   "metadata": {
    "ExecuteTime": {
     "end_time": "2021-04-16T00:33:26.431166Z",
     "start_time": "2021-04-16T00:33:26.406282Z"
    }
   },
   "outputs": [],
   "source": [
    "log_reg_sm = sm.Logit(endog=y_binary, exog=sm.add_constant(X2))"
   ]
  },
  {
   "cell_type": "code",
   "execution_count": null,
   "metadata": {
    "ExecuteTime": {
     "end_time": "2021-04-16T00:33:28.117793Z",
     "start_time": "2021-04-16T00:33:26.432422Z"
    }
   },
   "outputs": [],
   "source": [
    "%%timeit\n",
    "log_reg_sm.fit(disp=False)"
   ]
  },
  {
   "cell_type": "code",
   "execution_count": null,
   "metadata": {
    "ExecuteTime": {
     "end_time": "2021-04-16T00:33:28.199185Z",
     "start_time": "2021-04-16T00:33:28.119038Z"
    }
   },
   "outputs": [],
   "source": [
    "log_result = log_reg_sm.fit()"
   ]
  },
  {
   "cell_type": "code",
   "execution_count": null,
   "metadata": {
    "ExecuteTime": {
     "end_time": "2021-04-16T00:33:28.452764Z",
     "start_time": "2021-04-16T00:33:28.200353Z"
    }
   },
   "outputs": [],
   "source": [
    "print(log_result.summary())"
   ]
  },
  {
   "cell_type": "markdown",
   "metadata": {},
   "source": [
    "#### sklearn"
   ]
  },
  {
   "cell_type": "code",
   "execution_count": null,
   "metadata": {
    "ExecuteTime": {
     "end_time": "2021-04-16T00:33:28.458948Z",
     "start_time": "2021-04-16T00:33:28.455385Z"
    }
   },
   "outputs": [],
   "source": [
    "log_reg_sk = LogisticRegression()"
   ]
  },
  {
   "cell_type": "code",
   "execution_count": null,
   "metadata": {
    "ExecuteTime": {
     "end_time": "2021-04-16T00:33:33.909359Z",
     "start_time": "2021-04-16T00:33:28.461195Z"
    }
   },
   "outputs": [],
   "source": [
    "%%timeit\n",
    "log_reg_sk.fit(X=X2, y=y_binary)"
   ]
  },
  {
   "cell_type": "code",
   "execution_count": null,
   "metadata": {
    "ExecuteTime": {
     "end_time": "2021-04-16T00:33:34.057197Z",
     "start_time": "2021-04-16T00:33:33.910465Z"
    }
   },
   "outputs": [],
   "source": [
    "log_reg_sk.fit(X=X2, y=y_binary)"
   ]
  },
  {
   "cell_type": "code",
   "execution_count": null,
   "metadata": {
    "ExecuteTime": {
     "end_time": "2021-04-16T00:33:34.066180Z",
     "start_time": "2021-04-16T00:33:34.058359Z"
    }
   },
   "outputs": [],
   "source": [
    "log_reg_sk.coef_"
   ]
  },
  {
   "cell_type": "markdown",
   "metadata": {},
   "source": [
    "### Decision Surfaces: Classifier Tree vs. Logistic Regression "
   ]
  },
  {
   "cell_type": "code",
   "execution_count": null,
   "metadata": {
    "ExecuteTime": {
     "end_time": "2021-04-16T00:33:34.454616Z",
     "start_time": "2021-04-16T00:33:34.072296Z"
    }
   },
   "outputs": [],
   "source": [
    "fig, axes = plt.subplots(ncols=2, figsize=(12,5))\n",
    "\n",
    "# Linear Regression\n",
    "ret1 = log_reg_sk.predict_proba(X_data)[:, 1].reshape(t1.shape)\n",
    "surface1 = axes[0].contourf(t1, t2, ret1, cmap='Blues')\n",
    "plt.colorbar(mappable=surface1, ax=axes[0])\n",
    "\n",
    "# Regression Tree\n",
    "ret2 = clf_tree_t2.predict_proba(X_data)[:, 1].reshape(t1.shape)\n",
    "surface2 = axes[1].contourf(t1, t2, ret2, cmap='Blues')\n",
    "plt.colorbar(mappable=surface2, ax=axes[1])\n",
    "\n",
    "# Format plots\n",
    "titles = ['Logistic Regression', 'Classification Tree']\n",
    "for i, ax in enumerate(axes):\n",
    "    ax.set_xlabel('t-1')\n",
    "    ax.set_ylabel('t-2')\n",
    "    ax.set_title(titles[i])\n",
    "\n",
    "fig.suptitle('Decision Surfaces', fontsize=20)\n",
    "sns.despine()\n",
    "fig.tight_layout()\n",
    "fig.subplots_adjust(top=.9);"
   ]
  },
  {
   "cell_type": "markdown",
   "metadata": {},
   "source": [
    "## Regression Tree with all Features"
   ]
  },
  {
   "cell_type": "markdown",
   "metadata": {},
   "source": [
    "We now train, visualize, and evaluate a regression tree with up to 5 consecutive splits using 80% of the samples for training to predict the remaining 20%.\n",
    "\n",
    "We are taking a shortcut here to simplify the illustration and use the built-in train_test_split, which does not protect against lookahead bias, as our custom iterator. The tree configuration implies up to $2^5=32$ leaf nodes that, on average in the balanced case, would contain over 4,300 of the training samples."
   ]
  },
  {
   "cell_type": "markdown",
   "metadata": {},
   "source": [
    "### Train-Test Split"
   ]
  },
  {
   "cell_type": "code",
   "execution_count": null,
   "metadata": {
    "ExecuteTime": {
     "end_time": "2021-04-16T00:33:34.491936Z",
     "start_time": "2021-04-16T00:33:34.455838Z"
    }
   },
   "outputs": [],
   "source": [
    "X = pd.get_dummies(data.drop('target', axis=1))\n",
    "y = data.target"
   ]
  },
  {
   "cell_type": "code",
   "execution_count": null,
   "metadata": {
    "ExecuteTime": {
     "end_time": "2021-04-16T00:33:34.529344Z",
     "start_time": "2021-04-16T00:33:34.493349Z"
    }
   },
   "outputs": [],
   "source": [
    "X_train, X_test, y_train, y_test = train_test_split(X, y, test_size=0.2, random_state=42)"
   ]
  },
  {
   "cell_type": "markdown",
   "metadata": {},
   "source": [
    "### Configure Tree"
   ]
  },
  {
   "cell_type": "markdown",
   "metadata": {},
   "source": [
    "The output after training the model displays all the DecisionTreeClassifier parameters that we will address in more detail in the next section when we discuss parameter-tuning. "
   ]
  },
  {
   "cell_type": "code",
   "execution_count": null,
   "metadata": {
    "ExecuteTime": {
     "end_time": "2021-04-16T00:33:34.532666Z",
     "start_time": "2021-04-16T00:33:34.530505Z"
    }
   },
   "outputs": [],
   "source": [
    "regression_tree = DecisionTreeRegressor(criterion='squared_error',\n",
    "                                        splitter='best',\n",
    "                                        max_depth=5,\n",
    "                                        min_samples_split=2,\n",
    "                                        min_samples_leaf=1,\n",
    "                                        min_weight_fraction_leaf=0.0,\n",
    "                                        max_features=None,\n",
    "                                        random_state=42,\n",
    "                                        max_leaf_nodes=None,\n",
    "                                        min_impurity_decrease=0.0)"
   ]
  },
  {
   "cell_type": "markdown",
   "metadata": {},
   "source": [
    "### Train Model"
   ]
  },
  {
   "cell_type": "code",
   "execution_count": null,
   "metadata": {
    "ExecuteTime": {
     "end_time": "2021-04-16T00:33:35.266789Z",
     "start_time": "2021-04-16T00:33:34.534056Z"
    }
   },
   "outputs": [],
   "source": [
    "regression_tree.fit(X=X_train, y=y_train)"
   ]
  },
  {
   "cell_type": "markdown",
   "metadata": {},
   "source": [
    "### Visualize Tree"
   ]
  },
  {
   "cell_type": "markdown",
   "metadata": {},
   "source": [
    "The result shows that the model uses a variety of different features and indicates the split rules for both continuous and categorical (dummy) variables. "
   ]
  },
  {
   "cell_type": "code",
   "execution_count": null,
   "metadata": {
    "ExecuteTime": {
     "end_time": "2021-04-16T00:33:35.332234Z",
     "start_time": "2021-04-16T00:33:35.267941Z"
    }
   },
   "outputs": [],
   "source": [
    "out_file = results_path / 'reg_tree.dot'\n",
    "dot_data = export_graphviz(regression_tree,\n",
    "                           out_file=out_file.as_posix(),\n",
    "                           feature_names=X_train.columns,\n",
    "                           max_depth=3,\n",
    "                           filled=True,\n",
    "                           rounded=True,\n",
    "                           special_characters=True)\n",
    "if out_file is not None:\n",
    "    dot_data = Path(out_file).read_text()\n",
    "\n",
    "graphviz.Source(dot_data)"
   ]
  },
  {
   "cell_type": "markdown",
   "metadata": {},
   "source": [
    "### Evaluate Test Set"
   ]
  },
  {
   "cell_type": "code",
   "execution_count": null,
   "metadata": {
    "ExecuteTime": {
     "end_time": "2021-04-16T00:33:35.355228Z",
     "start_time": "2021-04-16T00:33:35.333642Z"
    }
   },
   "outputs": [],
   "source": [
    "y_pred = regression_tree.predict(X_test)"
   ]
  },
  {
   "cell_type": "code",
   "execution_count": null,
   "metadata": {
    "ExecuteTime": {
     "end_time": "2021-04-16T00:33:35.363324Z",
     "start_time": "2021-04-16T00:33:35.358601Z"
    }
   },
   "outputs": [],
   "source": [
    "np.sqrt(mean_squared_error(y_pred=y_pred, y_true=y_test))"
   ]
  },
  {
   "cell_type": "code",
   "execution_count": null,
   "metadata": {
    "ExecuteTime": {
     "end_time": "2021-04-16T00:33:35.379470Z",
     "start_time": "2021-04-16T00:33:35.365615Z"
    }
   },
   "outputs": [],
   "source": [
    "r, p = spearmanr(y_pred, y_test)\n",
    "print(f'{r*100:.2f} (p-value={p:.2%})')"
   ]
  },
  {
   "cell_type": "markdown",
   "metadata": {},
   "source": [
    "## Classification Tree with all Features"
   ]
  },
  {
   "cell_type": "markdown",
   "metadata": {},
   "source": [
    "We will now train, visualize, and evaluate a classification tree with up to 5 consecutive splits using 80% of the samples for training to predict the remaining 20%. We are taking a shortcut here to simplify the illustration and use the built-in train_test_split, which does not protect against lookahead bias, as our custom iterator. The tree configuration implies up to $2^5=32$ leaf nodes that, on average in the balanced case, would contain over 4,300 of the training samples."
   ]
  },
  {
   "cell_type": "markdown",
   "metadata": {},
   "source": [
    "### Train-Test Split"
   ]
  },
  {
   "cell_type": "code",
   "execution_count": null,
   "metadata": {
    "ExecuteTime": {
     "end_time": "2021-04-16T00:33:35.391198Z",
     "start_time": "2021-04-16T00:33:35.380409Z"
    },
    "scrolled": true
   },
   "outputs": [],
   "source": [
    "y_binary = (y>0).astype(int)\n",
    "y_binary.value_counts()"
   ]
  },
  {
   "cell_type": "code",
   "execution_count": null,
   "metadata": {
    "ExecuteTime": {
     "end_time": "2021-04-16T00:33:35.421858Z",
     "start_time": "2021-04-16T00:33:35.392557Z"
    }
   },
   "outputs": [],
   "source": [
    "X_train, X_test, y_train, y_test = train_test_split(X, y_binary, test_size=0.2, random_state=42)"
   ]
  },
  {
   "cell_type": "code",
   "execution_count": null,
   "metadata": {
    "ExecuteTime": {
     "end_time": "2021-04-16T00:33:35.425897Z",
     "start_time": "2021-04-16T00:33:35.423388Z"
    }
   },
   "outputs": [],
   "source": [
    "clf = DecisionTreeClassifier(criterion='gini',\n",
    "                             max_depth=5,\n",
    "                             random_state=42)"
   ]
  },
  {
   "cell_type": "code",
   "execution_count": null,
   "metadata": {
    "ExecuteTime": {
     "end_time": "2021-04-16T00:33:36.216311Z",
     "start_time": "2021-04-16T00:33:35.427617Z"
    }
   },
   "outputs": [],
   "source": [
    "clf.fit(X=X_train, y=y_train)"
   ]
  },
  {
   "cell_type": "markdown",
   "metadata": {},
   "source": [
    "### Plot Tree"
   ]
  },
  {
   "cell_type": "code",
   "execution_count": null,
   "metadata": {
    "ExecuteTime": {
     "end_time": "2021-04-16T00:33:36.260644Z",
     "start_time": "2021-04-16T00:33:36.219967Z"
    }
   },
   "outputs": [],
   "source": [
    "out_file = results_path / 'clf_tree.dot'\n",
    "dot_data = export_graphviz(clf,\n",
    "                           out_file=out_file.as_posix(),\n",
    "                           feature_names=X.columns,\n",
    "                           class_names=['Down', 'Up'],\n",
    "                           max_depth=3,\n",
    "                           filled=True,\n",
    "                           rounded=True,\n",
    "                           special_characters=True)\n",
    "if out_file is not None:\n",
    "    dot_data = Path(out_file).read_text()\n",
    "\n",
    "graphviz.Source(dot_data)"
   ]
  },
  {
   "cell_type": "markdown",
   "metadata": {},
   "source": [
    "### Evaluate Test Set"
   ]
  },
  {
   "cell_type": "markdown",
   "metadata": {},
   "source": [
    "To evaluate the predictive accuracy of our first classification tree, we will use our test set to generate predicted class probabilities. \n",
    "\n",
    "The `.predict_proba()` method produces one probability for each class. In the binary class, these probabilities are complementary and sum to 1, so we only need the value for the positive class. "
   ]
  },
  {
   "cell_type": "code",
   "execution_count": null,
   "metadata": {
    "ExecuteTime": {
     "end_time": "2021-04-16T00:33:36.270863Z",
     "start_time": "2021-04-16T00:33:36.262990Z"
    }
   },
   "outputs": [],
   "source": [
    "y_score = clf.predict_proba(X=X_test)[:, 1]"
   ]
  },
  {
   "cell_type": "markdown",
   "metadata": {},
   "source": [
    "To evaluate the generalization error, we will use the area under the curve based on the receiver-operating characteristic that we introduced in Chapter 6, The Machine Learning Process. The result indicates a significant improvement above and beyond the baseline value of 0.5 for a random prediction:"
   ]
  },
  {
   "cell_type": "code",
   "execution_count": null,
   "metadata": {
    "ExecuteTime": {
     "end_time": "2021-04-16T00:33:36.283613Z",
     "start_time": "2021-04-16T00:33:36.272140Z"
    }
   },
   "outputs": [],
   "source": [
    "roc_auc_score(y_score=y_score, y_true=y_test)"
   ]
  },
  {
   "cell_type": "markdown",
   "metadata": {},
   "source": [
    "### Print Decision Path"
   ]
  },
  {
   "cell_type": "markdown",
   "metadata": {},
   "source": [
    "Inspired by https://stackoverflow.com/questions/20224526/how-to-extract-the-decision-rules-from-scikit-learn-decision-tree"
   ]
  },
  {
   "cell_type": "code",
   "execution_count": null,
   "metadata": {
    "ExecuteTime": {
     "end_time": "2021-04-16T00:33:36.294116Z",
     "start_time": "2021-04-16T00:33:36.284877Z"
    }
   },
   "outputs": [],
   "source": [
    "from sklearn.tree._tree import Tree\n",
    "help(Tree)"
   ]
  },
  {
   "cell_type": "code",
   "execution_count": null,
   "metadata": {
    "ExecuteTime": {
     "end_time": "2021-04-16T00:33:36.302800Z",
     "start_time": "2021-04-16T00:33:36.295041Z"
    }
   },
   "outputs": [],
   "source": [
    "def tree_to_code(tree, feature_names):\n",
    "    if isinstance(tree, DecisionTreeClassifier):\n",
    "        model = 'clf'\n",
    "    elif isinstance(tree, DecisionTreeRegressor):\n",
    "        model = 'reg'\n",
    "    else:\n",
    "        raise ValueError('Need Regression or Classification Tree')\n",
    "        \n",
    "    tree_ = tree.tree_\n",
    "    feature_name = [\n",
    "        feature_names[i] if i != _tree.TREE_UNDEFINED else \"undefined!\"\n",
    "        for i in tree_.feature\n",
    "    ]\n",
    "    print(\"def tree({}):\".format(\", \".join(feature_names)))\n",
    "\n",
    "    def recurse(node, depth):\n",
    "        indent = \"  \" * depth\n",
    "        if tree_.feature[node] != _tree.TREE_UNDEFINED:\n",
    "            name = feature_name[node]\n",
    "            threshold = tree_.threshold[node]\n",
    "            print(indent, f'if {name} <= {threshold:.2%}')\n",
    "            recurse(tree_.children_left[node], depth + 1)\n",
    "            print(indent, f'else:  # if {name} > {threshold:.2%}')\n",
    "            recurse(tree_.children_right[node], depth + 1)\n",
    "        else:\n",
    "            pred = tree_.value[node][0]\n",
    "            val = pred[1]/sum(pred) if model == 'clf' else pred[0]\n",
    "            print(indent, f'return {val:.2%}')\n",
    "    recurse(0, 1)"
   ]
  },
  {
   "cell_type": "code",
   "execution_count": null,
   "metadata": {
    "ExecuteTime": {
     "end_time": "2021-04-16T00:33:36.322605Z",
     "start_time": "2021-04-16T00:33:36.304005Z"
    }
   },
   "outputs": [],
   "source": [
    "tree_to_code(clf_tree_t2, X2.columns)"
   ]
  },
  {
   "cell_type": "markdown",
   "metadata": {},
   "source": [
    "## Overfitting, Regularization & Parameter Tuning"
   ]
  },
  {
   "cell_type": "markdown",
   "metadata": {},
   "source": [
    "Decision trees have a strong tendency to overfit, especially when a dataset has a large number of features relative to the number of samples. As discussed in previous chapters, overfitting increases the prediction error because the model does not only learn the signal contained in the training data, but also the noise.\n",
    "There are several ways to address the risk of overfitting."
   ]
  },
  {
   "cell_type": "markdown",
   "metadata": {},
   "source": [
    "Decision trees provide several regularization hyperparameters to limit the growth of a tree and the associated complexity. While every split increases the number of nodes, it also reduces the number of samples available per node to support a prediction. For each additional level, twice the number of samples is needed to populate the new nodes with the same sample density. "
   ]
  },
  {
   "cell_type": "markdown",
   "metadata": {},
   "source": [
    "### Decision Tree Parameters"
   ]
  },
  {
   "cell_type": "markdown",
   "metadata": {},
   "source": [
    "The following table lists key parameters available for this purpose in the sklearn decision tree implementation. After introducing the most important parameters, we will illustrate how to use cross-validation to optimize the hyperparameter settings with respect to the bias-variance tradeoff and lower prediction errors:"
   ]
  },
  {
   "cell_type": "markdown",
   "metadata": {},
   "source": [
    "| Parameter                | Default | Options                                                                                                                                                               | Description                                                                                                                                                                                                             |\n",
    "|--------------------------|---------|-----------------------------------------------------------------------------------------------------------------------------------------------------------------------|-------------------------------------------------------------------------------------------------------------------------------------------------------------------------------------------------------------------------|\n",
    "| criterion                | gini    | Regression: MSE, MAE Classification: Gini impurity, Cross Entropy                                                                                                     | Metric to evaluate split quality.                                                                                                                                                                                       |\n",
    "| splitter                 | best    | best, random                                                                                                                                                          | How to choose the split at each node. Supported strategies are “best” to choose the best split and “random” to choose the best random split.                                                                            |\n",
    "| max_depth                | None    | int                                                                                                                                                                   | Max # of levels in tree. Split nodes until max_depth is reached or all leaves are pure or all leaves contain less than min_samples_split samples.                                                                       |\n",
    "| max_features             | None    | None: max_features=n_features; int; float (fraction): int(max_features * n_features)  auto, sqrt: max_features=sqrt(n_features). log2: max_features=log2(n_features). | # of features to consider when evaluating split                                                                                                                                                                         |\n",
    "| max_leaf_nodes           | None    | None: unlimited # of leaf nodes int                                                                                                                                   | Continue to split nodes that reduce relative impurity the most until reaching max_leaf_nodes.                                                                                                                           |\n",
    "| min_impurity_decrease    | 0       | float                                                                                                                                                                 | Split node if impurity decreases by at least this value.                                                                                                                                                                |\n",
    "| min_samples_leaf         | 1       | int; float (as percentage of N)                                                                                                                                       | Minimum # of samples to be at a leaf node. A split will only be considered if there are at least min_samples_leaf training samples in each of the left and right branches. May smoothen the model, esp. for regression. |\n",
    "| min_samples_split        | 2       | int; float (as percentage of N)                                                                                                                                       | The minimum number of samples required to split an internal node:                                                                                                                                                       |\n",
    "| min_weight_fraction_leaf | 0       | NA                                                                                                                                                                    | The minimum weighted fraction of the sum total of weights (of all the input samples) required to be at a leaf node. Samples have equal weight when sample_weight is not provided (in fit method).                       |\n",
    "| class_weight             | None    | balanced: inversely proportional to class frequencies dict: {class_label: weight} list of dicts (for multi-output)                                                    | Weights associated with classes                                                                                                                                                                                         |"
   ]
  },
  {
   "cell_type": "markdown",
   "metadata": {},
   "source": [
    "The `max_depth` parameter imposes a hard limit on the number of consecutive splits and represents the most straightforward way to cap the growth of a tree.\n",
    "\n",
    "The m`in_samples_split` and `min_samples_leaf` parameters are alternative, data-driven ways to limit the growth of a tree. Rather than imposing a hard limit on the number of consecutive splits, these parameters control the minimum number of samples required to further split the data. The latter guarantees a certain number of samples per leaf, while the former can create very small leaves if a split results in a very uneven distribution. Small parameter values facilitate overfitting, while a high number may prevent the tree from learning the signal in the data. \n",
    "\n",
    "The default values are often quite low, and you should use cross-validation to explore a range of potential values. You can also use a float to indicate a percentage as opposed to an absolute number. "
   ]
  },
  {
   "cell_type": "markdown",
   "metadata": {},
   "source": [
    "### Cross-validation parameters"
   ]
  },
  {
   "cell_type": "code",
   "execution_count": null,
   "metadata": {
    "ExecuteTime": {
     "end_time": "2021-04-16T00:33:36.328359Z",
     "start_time": "2021-04-16T00:33:36.323742Z"
    }
   },
   "outputs": [],
   "source": [
    "n_splits = 10\n",
    "train_period_length = 60\n",
    "test_period_length = 6\n",
    "lookahead = 1\n",
    "\n",
    "cv = MultipleTimeSeriesCV(n_splits=n_splits,\n",
    "                          train_period_length=train_period_length,\n",
    "                          test_period_length=test_period_length,\n",
    "                          lookahead=lookahead)"
   ]
  },
  {
   "cell_type": "code",
   "execution_count": null,
   "metadata": {
    "ExecuteTime": {
     "end_time": "2021-04-16T00:33:36.334074Z",
     "start_time": "2021-04-16T00:33:36.329663Z"
    }
   },
   "outputs": [],
   "source": [
    "max_depths = range(1, 16)"
   ]
  },
  {
   "cell_type": "markdown",
   "metadata": {},
   "source": [
    "### Finding the best trees using GridSearchCV"
   ]
  },
  {
   "cell_type": "markdown",
   "metadata": {},
   "source": [
    "scikit-learn provides a method to define ranges of values for multiple hyperparameters. It automates the process of cross-validating the various combinations of these parameter values to identify the optimal configuration. Let's walk through the process of automatically tuning your model."
   ]
  },
  {
   "cell_type": "markdown",
   "metadata": {},
   "source": [
    "#### Define parameter grid"
   ]
  },
  {
   "cell_type": "markdown",
   "metadata": {},
   "source": [
    "The first step is to define a dictionary where the keywords name the hyperparameters, and the values list the parameter settings to be tested:"
   ]
  },
  {
   "cell_type": "code",
   "execution_count": null,
   "metadata": {
    "ExecuteTime": {
     "end_time": "2021-04-16T00:33:36.346973Z",
     "start_time": "2021-04-16T00:33:36.335032Z"
    }
   },
   "outputs": [],
   "source": [
    "param_grid = {'max_depth': [2, 3, 4, 5, 6, 7, 8, 10, 12, 15],\n",
    "              'min_samples_leaf': [5, 25, 50, 100],\n",
    "              'max_features': ['sqrt', 'auto']}"
   ]
  },
  {
   "cell_type": "markdown",
   "metadata": {},
   "source": [
    "#### Classification Tree"
   ]
  },
  {
   "cell_type": "markdown",
   "metadata": {},
   "source": [
    "Then, we instantiate a model object:"
   ]
  },
  {
   "cell_type": "code",
   "execution_count": null,
   "metadata": {
    "ExecuteTime": {
     "end_time": "2021-04-16T00:33:36.354743Z",
     "start_time": "2021-04-16T00:33:36.348117Z"
    }
   },
   "outputs": [],
   "source": [
    "clf = DecisionTreeClassifier(random_state=42)"
   ]
  },
  {
   "cell_type": "markdown",
   "metadata": {},
   "source": [
    "Now we instantiate the GridSearchCV object, providing the estimator object and parameter grid, as well as a scoring method and cross-validation choice to the initialization method. We'll use an object of our custom OneStepTimeSeriesSplit class, initialized to use ten folds for the cv parameter, and set the scoring to the roc_auc metric. We can parallelize the search using the n_jobs parameter and automatically obtain a trained model that uses the optimal hyperparameters by setting `refit=True`."
   ]
  },
  {
   "cell_type": "code",
   "execution_count": null,
   "metadata": {
    "ExecuteTime": {
     "end_time": "2021-04-16T00:33:36.363000Z",
     "start_time": "2021-04-16T00:33:36.355848Z"
    }
   },
   "outputs": [],
   "source": [
    "gridsearch_clf = GridSearchCV(estimator=clf,\n",
    "                          param_grid=param_grid,\n",
    "                          scoring='roc_auc',\n",
    "                          n_jobs=-1,\n",
    "                          cv=cv,\n",
    "                          refit=True,\n",
    "                          return_train_score=True)"
   ]
  },
  {
   "cell_type": "markdown",
   "metadata": {},
   "source": [
    "With all settings in place, we can fit GridSearchCV just like any other model:"
   ]
  },
  {
   "cell_type": "code",
   "execution_count": null,
   "metadata": {
    "ExecuteTime": {
     "end_time": "2021-04-16T00:33:53.853282Z",
     "start_time": "2021-04-16T00:33:36.364001Z"
    }
   },
   "outputs": [],
   "source": [
    "gridsearch_clf.fit(X=X, y=y_binary)"
   ]
  },
  {
   "cell_type": "markdown",
   "metadata": {},
   "source": [
    "The training process produces some new attributes for our GridSearchCV object, most importantly the information about the optimal settings and the best cross-validation score (now using the proper setup that avoids lookahead bias).\n",
    "\n",
    "Setting `max_depth` to 10, `min_samples_leaf` to 750, and randomly selecting only a number corresponding to the square root of the total number of features when deciding on a split, produces the best results, with an AUC of 0.532:"
   ]
  },
  {
   "cell_type": "code",
   "execution_count": null,
   "metadata": {
    "ExecuteTime": {
     "end_time": "2021-04-16T00:33:53.857480Z",
     "start_time": "2021-04-16T00:33:53.854544Z"
    }
   },
   "outputs": [],
   "source": [
    "gridsearch_clf.best_params_"
   ]
  },
  {
   "cell_type": "code",
   "execution_count": null,
   "metadata": {
    "ExecuteTime": {
     "end_time": "2021-04-16T00:33:53.871480Z",
     "start_time": "2021-04-16T00:33:53.858438Z"
    }
   },
   "outputs": [],
   "source": [
    "gridsearch_clf.best_score_"
   ]
  },
  {
   "cell_type": "markdown",
   "metadata": {},
   "source": [
    "#### Define Custom IC score"
   ]
  },
  {
   "cell_type": "code",
   "execution_count": null,
   "metadata": {
    "ExecuteTime": {
     "end_time": "2021-04-16T00:33:53.880255Z",
     "start_time": "2021-04-16T00:33:53.872541Z"
    }
   },
   "outputs": [],
   "source": [
    "def rank_correl(y, y_pred):\n",
    "    return spearmanr(y, y_pred)[0]\n",
    "ic = make_scorer(rank_correl)"
   ]
  },
  {
   "cell_type": "markdown",
   "metadata": {},
   "source": [
    "#### Regression Tree"
   ]
  },
  {
   "cell_type": "code",
   "execution_count": null,
   "metadata": {
    "ExecuteTime": {
     "end_time": "2021-04-16T00:33:53.888614Z",
     "start_time": "2021-04-16T00:33:53.881766Z"
    }
   },
   "outputs": [],
   "source": [
    "reg_tree = DecisionTreeRegressor(random_state=42)"
   ]
  },
  {
   "cell_type": "code",
   "execution_count": null,
   "metadata": {
    "ExecuteTime": {
     "end_time": "2021-04-16T00:33:53.896846Z",
     "start_time": "2021-04-16T00:33:53.889580Z"
    }
   },
   "outputs": [],
   "source": [
    "gridsearch_reg = GridSearchCV(estimator=reg_tree,\n",
    "                              param_grid=param_grid,\n",
    "                              scoring=ic,\n",
    "                              n_jobs=-1,\n",
    "                              cv=cv,\n",
    "                              refit=True,\n",
    "                              return_train_score=True)"
   ]
  },
  {
   "cell_type": "code",
   "execution_count": null,
   "metadata": {
    "ExecuteTime": {
     "end_time": "2021-04-16T00:34:33.328283Z",
     "start_time": "2021-04-16T00:33:53.897801Z"
    }
   },
   "outputs": [],
   "source": [
    "gridsearch_reg.fit(X=X, y=y)"
   ]
  },
  {
   "cell_type": "code",
   "execution_count": null,
   "metadata": {
    "ExecuteTime": {
     "end_time": "2021-04-16T00:34:33.340010Z",
     "start_time": "2021-04-16T00:34:33.333245Z"
    }
   },
   "outputs": [],
   "source": [
    "gridsearch_reg.best_params_"
   ]
  },
  {
   "cell_type": "code",
   "execution_count": null,
   "metadata": {
    "ExecuteTime": {
     "end_time": "2021-04-16T00:34:33.351382Z",
     "start_time": "2021-04-16T00:34:33.341496Z"
    }
   },
   "outputs": [],
   "source": [
    "gridsearch_reg.best_score_"
   ]
  },
  {
   "cell_type": "code",
   "execution_count": null,
   "metadata": {
    "ExecuteTime": {
     "end_time": "2021-04-16T00:34:33.363598Z",
     "start_time": "2021-04-16T00:34:33.352847Z"
    }
   },
   "outputs": [],
   "source": [
    "pd.DataFrame({'Regression': pd.Series(gridsearch_reg.best_params_),\n",
    "              'Classification': pd.Series(gridsearch_clf.best_params_)})"
   ]
  },
  {
   "cell_type": "markdown",
   "metadata": {},
   "source": [
    "### Classifier Cross-Validation"
   ]
  },
  {
   "cell_type": "markdown",
   "metadata": {},
   "source": [
    "Cross-validation is the most important tool to obtain an unbiased estimate of the generalization error, which in turn permits an informed choice among the various configuration options. sklearn offers several tools to facilitate the process of cross-validating numerous parameter settings, namely the GridSearchCV convenience class that we will illustrate in the next section. "
   ]
  },
  {
   "cell_type": "markdown",
   "metadata": {},
   "source": [
    "The following code illustrates how to run cross-validation more manually to obtain custom tree attributes, such as the total number of nodes or leaf nodes associated with certain hyperparameter settings. \n",
    "\n",
    "The following function accesses the internal `.tree_` attribute to retrieve information about the total node count, and how many of these nodes are leaf nodes:"
   ]
  },
  {
   "cell_type": "code",
   "execution_count": null,
   "metadata": {
    "ExecuteTime": {
     "end_time": "2021-04-16T00:34:33.369594Z",
     "start_time": "2021-04-16T00:34:33.364452Z"
    }
   },
   "outputs": [],
   "source": [
    "def get_leaves_count(tree):\n",
    "    t = tree.tree_\n",
    "    n = t.node_count\n",
    "    leaves = len([i for i in range(t.node_count) if t.children_left[i]== -1])\n",
    "    return leaves"
   ]
  },
  {
   "cell_type": "markdown",
   "metadata": {},
   "source": [
    "We can combine this information with the train and test scores to gain detailed knowledge about the model behavior throughout the cross-validation process, as follows:"
   ]
  },
  {
   "cell_type": "code",
   "execution_count": null,
   "metadata": {
    "ExecuteTime": {
     "end_time": "2021-04-16T00:34:46.896130Z",
     "start_time": "2021-04-16T00:34:33.377385Z"
    },
    "scrolled": true
   },
   "outputs": [],
   "source": [
    "train_scores, val_scores, leaves = {}, {}, {}\n",
    "for max_depth in max_depths:\n",
    "    print(max_depth, end=' ', flush=True)\n",
    "    clf = DecisionTreeClassifier(criterion='gini', \n",
    "                                 max_depth=max_depth,\n",
    "                                 min_samples_leaf=5,\n",
    "                                 max_features='sqrt',\n",
    "                                 random_state=42)\n",
    "    train_scores[max_depth], val_scores[max_depth], leaves[max_depth] = [], [], []\n",
    "    for train_idx, test_idx in cv.split(X):\n",
    "        X_train, y_train,  = X.iloc[train_idx], y_binary.iloc[train_idx]\n",
    "        X_test, y_test = X.iloc[test_idx], y_binary.iloc[test_idx]\n",
    "        clf.fit(X=X_train, y=y_train)\n",
    "\n",
    "        train_pred = clf.predict_proba(X=X_train)[:, 1]\n",
    "        train_score = roc_auc_score(y_score=train_pred, y_true=y_train)\n",
    "        train_scores[max_depth].append(train_score)\n",
    "\n",
    "        test_pred = clf.predict_proba(X=X_test)[:, 1]\n",
    "        val_score = roc_auc_score(y_score=test_pred, y_true=y_test)\n",
    "        val_scores[max_depth].append(val_score)    \n",
    "        leaves[max_depth].append(get_leaves_count(clf))\n",
    "        \n",
    "clf_train_scores = pd.DataFrame(train_scores)\n",
    "clf_valid_scores = pd.DataFrame(val_scores)\n",
    "clf_leaves = pd.DataFrame(leaves)"
   ]
  },
  {
   "cell_type": "code",
   "execution_count": null,
   "metadata": {
    "ExecuteTime": {
     "end_time": "2021-04-16T00:34:46.906671Z",
     "start_time": "2021-04-16T00:34:46.898503Z"
    }
   },
   "outputs": [],
   "source": [
    "clf_cv_data = pd.concat([pd.melt(clf_train_scores,\n",
    "                                 var_name='Max. Depth',\n",
    "                                 value_name='ROC AUC').assign(Data='Train'),\n",
    "                         pd.melt(clf_valid_scores,\n",
    "                                 var_name='Max. Depth',\n",
    "                                 value_name='ROC AUC').assign(Data='Valid')])"
   ]
  },
  {
   "cell_type": "markdown",
   "metadata": {},
   "source": [
    "### Regression tree cross-validation"
   ]
  },
  {
   "cell_type": "markdown",
   "metadata": {},
   "source": [
    "#### Run cross-validation"
   ]
  },
  {
   "cell_type": "code",
   "execution_count": null,
   "metadata": {
    "ExecuteTime": {
     "end_time": "2021-04-16T00:34:58.712044Z",
     "start_time": "2021-04-16T00:34:46.907862Z"
    }
   },
   "outputs": [],
   "source": [
    "train_scores, val_scores, leaves = {}, {}, {}\n",
    "for max_depth in max_depths:\n",
    "    print(max_depth, end=' ', flush=True)\n",
    "    reg_tree = DecisionTreeRegressor(max_depth=max_depth,\n",
    "                                     min_samples_leaf=50,\n",
    "                                     max_features= 'sqrt',\n",
    "                                     random_state=42)\n",
    "    train_scores[max_depth], val_scores[max_depth], leaves[max_depth] = [], [], []\n",
    "    for train_idx, test_idx in cv.split(X):\n",
    "        X_train, y_train,  = X.iloc[train_idx], y.iloc[train_idx]\n",
    "        X_test, y_test = X.iloc[test_idx], y.iloc[test_idx]\n",
    "        reg_tree.fit(X=X_train, y=y_train)\n",
    "\n",
    "        train_pred = reg_tree.predict(X=X_train)\n",
    "        train_score = spearmanr(train_pred, y_train)[0]\n",
    "        train_scores[max_depth].append(train_score)\n",
    "\n",
    "        test_pred = reg_tree.predict(X=X_test)\n",
    "        val_score = spearmanr(test_pred, y_test)[0]\n",
    "        val_scores[max_depth].append(val_score)\n",
    "        leaves[max_depth].append(get_leaves_count(reg_tree))\n",
    "\n",
    "reg_train_scores = pd.DataFrame(train_scores)\n",
    "reg_valid_scores = pd.DataFrame(val_scores)\n",
    "reg_leaves = pd.DataFrame(leaves)"
   ]
  },
  {
   "cell_type": "code",
   "execution_count": null,
   "metadata": {
    "ExecuteTime": {
     "end_time": "2021-04-16T00:34:58.719502Z",
     "start_time": "2021-04-16T00:34:58.712895Z"
    }
   },
   "outputs": [],
   "source": [
    "#reg_cv_data = (pd.melt(reg_train_scores, var_name='Max. Depth',\n",
    "#                         value_name='IC').assign(Data='Train').append(\n",
    "#    pd.melt(reg_valid_scores,\n",
    "#            var_name='Max. Depth',\n",
    "#            value_name='IC').assign(Data='Valid')))\n",
    "\n",
    "# Melt the training scores DataFrame\n",
    "train_melted = pd.melt(reg_train_scores, var_name='Max. Depth', value_name='IC')\n",
    "train_melted = train_melted.assign(Data='Train')\n",
    "\n",
    "# Melt the validation scores DataFrame\n",
    "valid_melted = pd.melt(reg_valid_scores, var_name='Max. Depth', value_name='IC')\n",
    "valid_melted = valid_melted.assign(Data='Valid')\n",
    "\n",
    "# Combine the two DataFrames\n",
    "reg_cv_data = pd.concat([train_melted, valid_melted], ignore_index=True)\n"
   ]
  },
  {
   "cell_type": "markdown",
   "metadata": {},
   "source": [
    "### Compare CV Results"
   ]
  },
  {
   "cell_type": "code",
   "execution_count": null,
   "metadata": {
    "ExecuteTime": {
     "end_time": "2021-04-16T00:35:00.042515Z",
     "start_time": "2021-04-16T00:34:58.720596Z"
    },
    "scrolled": true
   },
   "outputs": [],
   "source": [
    "fig, axes = plt.subplots(ncols=2, figsize=(14, 5))\n",
    "\n",
    "sns.lineplot(data=reg_cv_data,\n",
    "             x='Max. Depth', y='IC',\n",
    "             hue='Data', ci=95,\n",
    "             ax=axes[0], lw=2)\n",
    "\n",
    "axes[0].set_title('Regression Tree')\n",
    "axes[0].axvline(x=reg_valid_scores.mean().idxmax(), ls='--', c='k', lw=1)\n",
    "axes[0].axhline(y=0, ls='--', c='k', lw=1)\n",
    "\n",
    "sns.lineplot(data=clf_cv_data,\n",
    "             x='Max. Depth', y='ROC AUC',\n",
    "             hue='Data', ci=95,\n",
    "             ax=axes[1], lw=2)\n",
    "\n",
    "axes[1].set_title('Classification Tree')\n",
    "axes[1].axvline(x=clf_valid_scores.mean().idxmax(), ls='--', c='k', lw=1)\n",
    "axes[1].axhline(y=.5, ls='--', c='k', lw=1)\n",
    "for ax in axes:\n",
    "    ax.set_xlim(min(param_grid['max_depth']),\n",
    "                max(param_grid['max_depth']))\n",
    "\n",
    "fig.suptitle(f'Train-Validation Scores', fontsize=14)\n",
    "sns.despine()\n",
    "fig.tight_layout()\n",
    "fig.subplots_adjust(top=.91)"
   ]
  },
  {
   "cell_type": "markdown",
   "metadata": {},
   "source": [
    "### Learning Curves for best models"
   ]
  },
  {
   "cell_type": "markdown",
   "metadata": {},
   "source": [
    "A learning curve is a useful tool that displays how the validation and training score evolve as the number of training samples evolves.\n",
    "\n",
    "The purpose of the learning curve is to find out whether and how much the model would benefit from using more data during training. It is also useful to diagnose whether the model's generalization error is more likely driven by bias or variance.\n",
    "\n",
    "If, for example, both the validation score and the training score converge to a similarly low value despite an increasing training set size, the error is more likely due to bias, and additional training data is unlikely to help."
   ]
  },
  {
   "cell_type": "markdown",
   "metadata": {},
   "source": [
    "#### Classifier"
   ]
  },
  {
   "cell_type": "code",
   "execution_count": null,
   "metadata": {
    "ExecuteTime": {
     "end_time": "2021-04-16T00:35:00.045677Z",
     "start_time": "2021-04-16T00:35:00.043552Z"
    }
   },
   "outputs": [],
   "source": [
    "sizes = np.arange(.1, 1.01, .1)"
   ]
  },
  {
   "cell_type": "code",
   "execution_count": null,
   "metadata": {
    "ExecuteTime": {
     "end_time": "2021-04-16T00:35:01.724318Z",
     "start_time": "2021-04-16T00:35:00.052073Z"
    }
   },
   "outputs": [],
   "source": [
    "train_sizes, train_scores, valid_scores = learning_curve(gridsearch_clf.best_estimator_,\n",
    "                                                         X,\n",
    "                                                         y_binary,\n",
    "                                                         train_sizes=sizes,\n",
    "                                                         cv=cv,\n",
    "                                                         scoring='roc_auc',\n",
    "                                                         n_jobs=-1,\n",
    "                                                         shuffle=True,\n",
    "                                                         random_state=42)"
   ]
  },
  {
   "cell_type": "code",
   "execution_count": null,
   "metadata": {
    "ExecuteTime": {
     "end_time": "2021-04-16T00:35:01.738102Z",
     "start_time": "2021-04-16T00:35:01.725318Z"
    }
   },
   "outputs": [],
   "source": [
    "clf_lc_data = pd.concat([\n",
    "    pd.melt(pd.DataFrame(train_scores.T, columns=train_sizes),\n",
    "            var_name='Train Size',\n",
    "            value_name='ROC AUC').assign(Data='Train'),\n",
    "    pd.melt(pd.DataFrame(valid_scores.T, columns=train_sizes),\n",
    "            var_name='Train Size',\n",
    "            value_name='ROC AUC').assign(Data='Valid')])\n",
    "clf_lc_data.info()"
   ]
  },
  {
   "cell_type": "markdown",
   "metadata": {},
   "source": [
    "#### Regression Tree"
   ]
  },
  {
   "cell_type": "code",
   "execution_count": null,
   "metadata": {
    "ExecuteTime": {
     "end_time": "2021-04-16T00:35:03.354249Z",
     "start_time": "2021-04-16T00:35:01.739800Z"
    }
   },
   "outputs": [],
   "source": [
    "train_sizes, train_scores, valid_scores = learning_curve(gridsearch_reg.best_estimator_,\n",
    "                                                         X, y,\n",
    "                                                         train_sizes=sizes,\n",
    "                                                         cv=cv,\n",
    "                                                         scoring=ic,\n",
    "                                                         n_jobs=-1,\n",
    "                                                         shuffle=True,\n",
    "                                                         random_state=42)"
   ]
  },
  {
   "cell_type": "code",
   "execution_count": null,
   "metadata": {
    "ExecuteTime": {
     "end_time": "2021-04-16T00:35:03.370414Z",
     "start_time": "2021-04-16T00:35:03.355248Z"
    }
   },
   "outputs": [],
   "source": [
    "reg_lc_data = pd.concat([\n",
    "    pd.melt(pd.DataFrame(train_scores.T,\n",
    "                         columns=train_sizes),\n",
    "            var_name='Train Size',\n",
    "            value_name='IC').assign(Data='Train'),\n",
    "    pd.melt(pd.DataFrame(valid_scores.T,\n",
    "                         columns=train_sizes),\n",
    "            var_name='Train Size',\n",
    "            value_name='IC').assign(Data='Valid')])\n",
    "reg_lc_data.info()"
   ]
  },
  {
   "cell_type": "markdown",
   "metadata": {},
   "source": [
    "#### Compare Learning Curves"
   ]
  },
  {
   "cell_type": "code",
   "execution_count": null,
   "metadata": {
    "ExecuteTime": {
     "end_time": "2021-04-16T00:35:04.388657Z",
     "start_time": "2021-04-16T00:35:03.371672Z"
    }
   },
   "outputs": [],
   "source": [
    "fig, axes = plt.subplots(ncols=2, figsize=(14, 5))\n",
    "xmin, xmax = reg_lc_data['Train Size'].min(), reg_lc_data['Train Size'].max()\n",
    "\n",
    "sns.lineplot(data=reg_lc_data,\n",
    "             x='Train Size', y='IC',\n",
    "             hue='Data', ci=95,  ax=axes[0], lw=2)\n",
    "axes[0].set_title('Best Regression Tree')\n",
    "axes[0].set_ylabel('IC')\n",
    "\n",
    "axes[0].xaxis.set_major_formatter(\n",
    "    FuncFormatter(lambda x, _: '{:,.0f}'.format(x)))\n",
    "\n",
    "sns.lineplot(data=clf_lc_data,\n",
    "             x='Train Size',\n",
    "             y='ROC AUC',\n",
    "             hue='Data',\n",
    "             ci=95,\n",
    "             ax=axes[1],\n",
    "             lw=2)\n",
    "axes[1].set_title('Best Classification Tree')\n",
    "axes[1].set_ylabel('ROC AUC')\n",
    "axes[1].xaxis.set_major_formatter(\n",
    "    FuncFormatter(lambda x, _: '{:,.0f}'.format(x)))\n",
    "\n",
    "for i in [0, 1]:\n",
    "    axes[i].tick_params(axis='both', which='major', labelsize=10)\n",
    "    axes[i].tick_params(axis='both', which='minor', labelsize=8)\n",
    "    axes[i].set_xlim(xmin, xmax)\n",
    "\n",
    "fig.suptitle('Learning Curves', fontsize=14)\n",
    "sns.despine()\n",
    "fig.tight_layout()\n",
    "fig.subplots_adjust(top=.9)"
   ]
  },
  {
   "cell_type": "markdown",
   "metadata": {},
   "source": [
    "### Feature Importance"
   ]
  },
  {
   "cell_type": "markdown",
   "metadata": {},
   "source": [
    "Decision trees can not only be visualized to inspect the decision path for a given feature, but also provide a summary measure of the contribution of each feature to the model fit to the training data. \n",
    "\n",
    "The feature importance captures how much the splits produced by the feature helped to optimize the model's metric used to evaluate the split quality, which in our case is the Gini Impurity index. \n",
    "\n",
    "A feature's importance is computed as the (normalized) total reduction of this metric and takes into account the number of samples affected by a split. Hence, features used earlier in the tree where the nodes tend to contain more samples typically are considered of higher importance."
   ]
  },
  {
   "cell_type": "code",
   "execution_count": null,
   "metadata": {
    "ExecuteTime": {
     "end_time": "2021-04-16T00:35:04.395752Z",
     "start_time": "2021-04-16T00:35:04.389724Z"
    }
   },
   "outputs": [],
   "source": [
    "top_n = 15\n",
    "labels = X.columns.str.replace('_', ' ').str.upper()\n",
    "fi_clf = (pd.Series(gridsearch_clf.best_estimator_.feature_importances_, \n",
    "                    index=labels).sort_values(ascending=False).iloc[:top_n])\n",
    "fi_reg = (pd.Series(gridsearch_reg.best_estimator_.feature_importances_, \n",
    "                    index=labels).sort_values(ascending=False).iloc[:top_n])"
   ]
  },
  {
   "cell_type": "code",
   "execution_count": null,
   "metadata": {
    "ExecuteTime": {
     "end_time": "2021-04-16T00:35:04.714765Z",
     "start_time": "2021-04-16T00:35:04.396825Z"
    }
   },
   "outputs": [],
   "source": [
    "fig, axes= plt.subplots(ncols=2, figsize=(12,4), sharex=True)\n",
    "color = cm.Blues(np.linspace(.4,.9, top_n))\n",
    "fi_clf.sort_values().plot.barh(ax=axes[1], title='Classification Tree', color=color)\n",
    "fi_reg.sort_values().plot.barh(ax=axes[0], title='Regression Tree', color=color)\n",
    "axes[0].set_xlabel('Feature Importance')\n",
    "axes[1].set_xlabel('Feature Importance')\n",
    "fig.suptitle(f'Top {top_n} Features', fontsize=14)\n",
    "sns.despine()\n",
    "fig.tight_layout()\n",
    "fig.subplots_adjust(top=.9);"
   ]
  },
  {
   "cell_type": "code",
   "execution_count": null,
   "metadata": {},
   "outputs": [],
   "source": []
  },
  {
   "cell_type": "code",
   "execution_count": null,
   "metadata": {},
   "outputs": [],
   "source": []
  },
  {
   "cell_type": "code",
   "execution_count": null,
   "metadata": {},
   "outputs": [],
   "source": []
  }
 ],
 "metadata": {
  "kernelspec": {
   "display_name": "Python 3 (ipykernel)",
   "language": "python",
   "name": "python3"
  },
  "language_info": {
   "codemirror_mode": {
    "name": "ipython",
    "version": 3
   },
   "file_extension": ".py",
   "mimetype": "text/x-python",
   "name": "python",
   "nbconvert_exporter": "python",
   "pygments_lexer": "ipython3",
   "version": "3.10.14"
  },
  "toc": {
   "base_numbering": 1,
   "nav_menu": {},
   "number_sections": true,
   "sideBar": true,
   "skip_h1_title": true,
   "title_cell": "Table of Contents",
   "title_sidebar": "Contents",
   "toc_cell": false,
   "toc_position": {
    "height": "calc(100% - 180px)",
    "left": "10px",
    "top": "150px",
    "width": "343.837px"
   },
   "toc_section_display": true,
   "toc_window_display": true
  }
 },
 "nbformat": 4,
 "nbformat_minor": 4
}
