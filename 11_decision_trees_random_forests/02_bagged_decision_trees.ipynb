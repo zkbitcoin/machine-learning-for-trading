{
 "cells": [
  {
   "cell_type": "markdown",
   "metadata": {},
   "source": [
    "# How bagging lowers model variance"
   ]
  },
  {
   "cell_type": "markdown",
   "metadata": {},
   "source": [
    "## Imports and Settings"
   ]
  },
  {
   "cell_type": "code",
   "execution_count": null,
   "metadata": {
    "ExecuteTime": {
     "end_time": "2021-04-16T00:35:36.681521Z",
     "start_time": "2021-04-16T00:35:36.679692Z"
    }
   },
   "outputs": [],
   "source": [
    "import warnings\n",
    "warnings.filterwarnings('ignore')"
   ]
  },
  {
   "cell_type": "code",
   "execution_count": null,
   "metadata": {
    "ExecuteTime": {
     "end_time": "2021-04-16T00:35:37.538586Z",
     "start_time": "2021-04-16T00:35:36.798934Z"
    }
   },
   "outputs": [],
   "source": [
    "%matplotlib inline\n",
    "\n",
    "from pathlib import Path\n",
    "import numpy as np\n",
    "from numpy.random import choice, normal\n",
    "import pandas as pd\n",
    "\n",
    "import matplotlib.pyplot as plt\n",
    "import seaborn as sns\n",
    "\n",
    "from sklearn.tree import DecisionTreeRegressor\n",
    "from sklearn.ensemble import BaggingRegressor"
   ]
  },
  {
   "cell_type": "code",
   "execution_count": null,
   "metadata": {
    "ExecuteTime": {
     "end_time": "2021-04-16T00:35:37.543307Z",
     "start_time": "2021-04-16T00:35:37.541012Z"
    }
   },
   "outputs": [],
   "source": [
    "sns.set_style('white')\n",
    "np.random.seed(seed=42)"
   ]
  },
  {
   "cell_type": "code",
   "execution_count": null,
   "metadata": {
    "ExecuteTime": {
     "end_time": "2021-04-16T00:35:37.559848Z",
     "start_time": "2021-04-16T00:35:37.544842Z"
    }
   },
   "outputs": [],
   "source": [
    "results_path = Path('results', 'random_forest')\n",
    "if not results_path.exists():\n",
    "    results_path.mkdir(parents=True)"
   ]
  },
  {
   "cell_type": "markdown",
   "metadata": {},
   "source": [
    "## Bagged Decision Trees"
   ]
  },
  {
   "cell_type": "markdown",
   "metadata": {},
   "source": [
    "To apply bagging to decision trees, we create bootstrap samples from our training data by repeatedly sampling with replacement, then train one decision tree on each of these samples, and create an ensemble prediction by averaging over the predictions of the different trees.\n",
    "\n",
    "Bagged decision trees are usually grown large, that is, have many levels and leaf nodes and are not pruned so that each tree has low bias but high variance. The effect of averaging their predictions then aims to reduce their variance. Bagging has been shown to substantially improve predictive performance by constructing ensembles that combine hundreds or even thousands of trees trained on bootstrap samples.\n",
    "\n",
    "To illustrate the effect of bagging on the variance of a regression tree, we can use the `BaggingRegressor` meta-estimator provided by `sklearn`. It trains a user-defined base estimator based on parameters that specify the sampling strategy:"
   ]
  },
  {
   "cell_type": "markdown",
   "metadata": {},
   "source": [
    "- `max_samples` and `max_features` control the size of the subsets drawn from the rows and the columns, respectively\n",
    "- `bootstrap` and `bootstrap_features` determine whether each of these samples is drawn with or without replacement"
   ]
  },
  {
   "cell_type": "markdown",
   "metadata": {},
   "source": [
    "## A wiggly function to learn"
   ]
  },
  {
   "cell_type": "code",
   "execution_count": null,
   "metadata": {
    "ExecuteTime": {
     "end_time": "2021-04-16T00:35:39.956054Z",
     "start_time": "2021-04-16T00:35:39.730535Z"
    },
    "scrolled": true
   },
   "outputs": [],
   "source": [
    "def f(x):\n",
    "    return np.exp(-(x+2) ** 2) + np.cos((x-2)**2)\n",
    "\n",
    "x = np.linspace(-3, 2, 1000)\n",
    "y = pd.Series(f(x), index=x)\n",
    "y.plot(title='Wiggly Exponential Function')\n",
    "sns.despine()\n",
    "plt.tight_layout();"
   ]
  },
  {
   "cell_type": "markdown",
   "metadata": {},
   "source": [
    "## Simulate Training"
   ]
  },
  {
   "cell_type": "markdown",
   "metadata": {},
   "source": [
    "The following example uses the preceding exponential function `f(x)` to generate training samples for a single DecisionTreeRegressor and a BaggingRegressor ensemble that consists of ten trees, each grown ten levels deep. Both models are trained on the random samples and predict outcomes for the actual function with added noise.\n",
    "\n",
    "Since we know the true function, we can decompose the mean-squared error into bias, variance, and noise, and compare the relative size of these components for both models according to the following breakdown:\n",
    "\n",
    "For 100 repeated random training and test samples of 250 and 500 observations each, we find that the variance of the predictions of the individual decision tree is almost twice as high as that for the small ensemble of 10 bagged trees based on bootstrapped samples:"
   ]
  },
  {
   "cell_type": "code",
   "execution_count": null,
   "metadata": {
    "ExecuteTime": {
     "end_time": "2021-04-16T00:35:41.828816Z",
     "start_time": "2021-04-16T00:35:40.492623Z"
    }
   },
   "outputs": [],
   "source": [
    "test_size = 500\n",
    "train_size = 250\n",
    "reps = 100\n",
    "\n",
    "noise = .5  # noise relative to std(y)\n",
    "noise = y.std() * noise\n",
    "\n",
    "X_test = choice(x, size=test_size, replace=False)\n",
    "\n",
    "max_depth = 10\n",
    "n_estimators=10\n",
    "\n",
    "tree = DecisionTreeRegressor(max_depth=max_depth)\n",
    "bagged_tree = BaggingRegressor(estimator=tree, n_estimators=n_estimators)\n",
    "learners = {'Decision Tree': tree, 'Bagging Regressor': bagged_tree}\n",
    "\n",
    "predictions = {k: pd.DataFrame() for k, v in learners.items()}\n",
    "for i in range(reps):\n",
    "    X_train = choice(x, train_size)\n",
    "    y_train = f(X_train) + normal(scale=noise, size=train_size)\n",
    "    for label, learner in learners.items():\n",
    "        learner.fit(X=X_train.reshape(-1, 1), y=y_train)\n",
    "        preds = pd.DataFrame({i: learner.predict(X_test.reshape(-1, 1))}, index=X_test)\n",
    "        predictions[label] = pd.concat([predictions[label], preds], axis=1)"
   ]
  },
  {
   "cell_type": "code",
   "execution_count": null,
   "metadata": {
    "ExecuteTime": {
     "end_time": "2021-04-16T00:35:41.833940Z",
     "start_time": "2021-04-16T00:35:41.829940Z"
    }
   },
   "outputs": [],
   "source": [
    "# y only observed with noise\n",
    "y_true = pd.Series(f(X_test), index=X_test)\n",
    "y_test = pd.DataFrame(y_true.values.reshape(-1,1) + normal(scale=noise, size=(test_size, reps)), index=X_test)"
   ]
  },
  {
   "cell_type": "code",
   "execution_count": null,
   "metadata": {
    "ExecuteTime": {
     "end_time": "2021-04-16T00:35:42.269077Z",
     "start_time": "2021-04-16T00:35:42.244816Z"
    }
   },
   "outputs": [],
   "source": [
    "result = pd.DataFrame()\n",
    "for label, preds in predictions.items():\n",
    "    result[(label, 'error')] = preds.sub(y_test, axis=0).pow(2).mean(1)    # mean squared error\n",
    "    result[(label, 'bias')] = y_true.sub(preds.mean(axis=1), axis=0).pow(2)             # bias\n",
    "    result[(label, 'variance')] = preds.var(axis=1)\n",
    "    result[(label, 'noise', )] = y_test.var(axis=1)\n",
    "result.columns = pd.MultiIndex.from_tuples(result.columns)"
   ]
  },
  {
   "cell_type": "code",
   "execution_count": null,
   "metadata": {
    "ExecuteTime": {
     "end_time": "2021-04-16T00:35:42.440260Z",
     "start_time": "2021-04-16T00:35:42.434641Z"
    }
   },
   "outputs": [],
   "source": [
    "df = result.mean().sort_index().loc['Decision Tree']\n",
    "f\"{(df.error- df.drop('error').sum()) / df.error:.2%}\""
   ]
  },
  {
   "cell_type": "code",
   "execution_count": null,
   "metadata": {
    "ExecuteTime": {
     "end_time": "2021-04-16T00:35:42.591322Z",
     "start_time": "2021-04-16T00:35:42.584999Z"
    }
   },
   "outputs": [],
   "source": [
    "df = result.mean().sort_index().loc['Bagging Regressor']\n",
    "f\"{(df.error- df.drop('error').sum()) / df.error:.2%}\""
   ]
  },
  {
   "cell_type": "markdown",
   "metadata": {},
   "source": [
    "### Visualize Bias-Variance Breakdown"
   ]
  },
  {
   "cell_type": "markdown",
   "metadata": {},
   "source": [
    "For each model, the following plot shows the mean prediction and a band of two standard deviations around the mean for both models in the upper panel, and the bias-variance-noise breakdown based on the values for the true function in the bottom panel:"
   ]
  },
  {
   "cell_type": "code",
   "execution_count": null,
   "metadata": {
    "ExecuteTime": {
     "end_time": "2021-04-16T00:35:45.785522Z",
     "start_time": "2021-04-16T00:35:44.926612Z"
    }
   },
   "outputs": [],
   "source": [
    "fig, axes = plt.subplots(ncols=2, nrows=2, figsize=(14, 7), sharex=True, sharey='row')\n",
    "axes = axes.flatten()\n",
    "idx = pd.IndexSlice\n",
    "\n",
    "for i, (model, data) in enumerate(predictions.items()):\n",
    "    mean, std = data.mean(1), data.std(1).mul(2)\n",
    "    (pd.DataFrame([mean.sub(std), mean, mean.add(std)]).T\n",
    "     .sort_index()\n",
    "     .plot(style=['k--', 'k-', 'k--'], ax=axes[i], lw=1, legend=False, ylim=(-2, 3)))\n",
    "    (data.stack().reset_index()\n",
    "     .rename(columns={'level_0': 'x', 0: 'y'})\n",
    "     .plot.scatter(x='x', y='y', ax=axes[i], alpha=.02, s=2, color='r', title=model))\n",
    "    r = result[model]\n",
    "    m = r.mean()\n",
    "    kwargs = {'transform': axes[i].transAxes, 'fontsize':10}\n",
    "    axes[i].text(x=.8, y=.9, s=f'Bias: {m.bias:.2%}', **kwargs)\n",
    "    axes[i].text(x=.75, y=.8, s=f'Variance: {m.variance:.2%}', **kwargs)\n",
    "    \n",
    "    (r.drop('error', axis=1).sort_index()\n",
    "     .rename(columns=str.capitalize)\n",
    "     .plot(ax=axes[i+2], lw=1, legend=False, stacked=True, ylim=(0, .4)))\n",
    "\n",
    "axes[-1].legend(fontsize=10)\n",
    "fig.suptitle('Bias-Variance Breakdown', fontsize=14)\n",
    "sns.despine()\n",
    "fig.tight_layout()\n",
    "fig.subplots_adjust(top=.93);"
   ]
  }
 ],
 "metadata": {
  "kernelspec": {
   "display_name": "Python 3 (ipykernel)",
   "language": "python",
   "name": "python3"
  },
  "language_info": {
   "codemirror_mode": {
    "name": "ipython",
    "version": 3
   },
   "file_extension": ".py",
   "mimetype": "text/x-python",
   "name": "python",
   "nbconvert_exporter": "python",
   "pygments_lexer": "ipython3",
   "version": "3.10.14"
  },
  "toc": {
   "base_numbering": 1,
   "nav_menu": {},
   "number_sections": true,
   "sideBar": true,
   "skip_h1_title": true,
   "title_cell": "Table of Contents",
   "title_sidebar": "Contents",
   "toc_cell": false,
   "toc_position": {
    "height": "calc(100% - 180px)",
    "left": "10px",
    "top": "150px",
    "width": "281.225px"
   },
   "toc_section_display": true,
   "toc_window_display": true
  }
 },
 "nbformat": 4,
 "nbformat_minor": 4
}
