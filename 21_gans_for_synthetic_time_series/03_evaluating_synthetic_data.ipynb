{
 "cells": [
  {
   "cell_type": "markdown",
   "metadata": {
    "ExecuteTime": {
     "end_time": "2020-06-12T13:43:33.877942Z",
     "start_time": "2020-06-12T13:43:33.875423Z"
    }
   },
   "source": [
    "<font size=\"+3\">Visualize Real and Synthetic Data</font>"
   ]
  },
  {
   "cell_type": "markdown",
   "metadata": {},
   "source": [
    "# Imports and Settings"
   ]
  },
  {
   "cell_type": "code",
   "execution_count": null,
   "metadata": {
    "ExecuteTime": {
     "end_time": "2020-06-22T15:17:43.527237Z",
     "start_time": "2020-06-22T15:17:41.890626Z"
    }
   },
   "outputs": [],
   "source": [
    "from pathlib import Path\n",
    "\n",
    "import numpy as np\n",
    "import pandas as pd\n",
    "\n",
    "from sklearn.manifold import TSNE\n",
    "from sklearn.decomposition import PCA\n",
    "from sklearn.preprocessing import MinMaxScaler\n",
    "\n",
    "import tensorflow as tf\n",
    "from tensorflow.keras.models import Sequential\n",
    "from tensorflow.keras.layers import GRU, Dense\n",
    "from tensorflow.keras.losses import BinaryCrossentropy, MeanSquaredError, MeanAbsoluteError\n",
    "from tensorflow.keras.optimizers import Adam\n",
    "from tensorflow.keras.metrics import AUC\n",
    "\n",
    "import matplotlib.pyplot as plt\n",
    "import seaborn as sns"
   ]
  },
  {
   "cell_type": "code",
   "execution_count": null,
   "metadata": {
    "ExecuteTime": {
     "end_time": "2020-06-22T15:17:43.555778Z",
     "start_time": "2020-06-22T15:17:43.528317Z"
    }
   },
   "outputs": [],
   "source": [
    "gpu_devices = tf.config.experimental.list_physical_devices('GPU')\n",
    "if gpu_devices:\n",
    "    print('Using GPU')\n",
    "    tf.config.experimental.set_memory_growth(gpu_devices[0], True)\n",
    "else:\n",
    "    print('Using CPU')"
   ]
  },
  {
   "cell_type": "code",
   "execution_count": null,
   "metadata": {
    "ExecuteTime": {
     "end_time": "2020-06-22T15:17:43.578929Z",
     "start_time": "2020-06-22T15:17:43.557252Z"
    }
   },
   "outputs": [],
   "source": [
    "sns.set_style('white')"
   ]
  },
  {
   "cell_type": "code",
   "execution_count": null,
   "metadata": {
    "ExecuteTime": {
     "end_time": "2020-06-22T15:17:43.593931Z",
     "start_time": "2020-06-22T15:17:43.580574Z"
    }
   },
   "outputs": [],
   "source": [
    "path = Path('time_gan')\n",
    "hdf_store = path / 'TimeSeriesGAN.h5'"
   ]
  },
  {
   "cell_type": "code",
   "execution_count": null,
   "metadata": {
    "ExecuteTime": {
     "end_time": "2020-06-22T15:17:43.602725Z",
     "start_time": "2020-06-22T15:17:43.595598Z"
    }
   },
   "outputs": [],
   "source": [
    "seq_len = 24\n",
    "n_seq = 6"
   ]
  },
  {
   "cell_type": "markdown",
   "metadata": {},
   "source": [
    "# Load Data"
   ]
  },
  {
   "cell_type": "code",
   "execution_count": null,
   "metadata": {
    "ExecuteTime": {
     "end_time": "2020-06-22T15:17:43.611196Z",
     "start_time": "2020-06-22T15:17:43.604224Z"
    }
   },
   "outputs": [],
   "source": [
    "experiment = 0"
   ]
  },
  {
   "cell_type": "code",
   "execution_count": null,
   "metadata": {
    "ExecuteTime": {
     "end_time": "2020-06-22T15:17:43.661228Z",
     "start_time": "2020-06-22T15:17:43.613548Z"
    }
   },
   "outputs": [],
   "source": [
    "def get_real_data():\n",
    "    df = pd.read_hdf(hdf_store, 'data/real').sort_index()\n",
    "\n",
    "    # Preprocess the dataset:\n",
    "    scaler = MinMaxScaler()\n",
    "    scaled_data = scaler.fit_transform(df)\n",
    "\n",
    "    data = []\n",
    "    for i in range(len(df) - seq_len):\n",
    "        data.append(scaled_data[i:i + seq_len])\n",
    "    return data\n",
    "\n",
    "\n",
    "real_data = get_real_data()"
   ]
  },
  {
   "cell_type": "code",
   "execution_count": null,
   "metadata": {
    "ExecuteTime": {
     "end_time": "2020-06-22T15:17:43.665058Z",
     "start_time": "2020-06-22T15:17:43.662845Z"
    }
   },
   "outputs": [],
   "source": [
    "n = len(real_data)"
   ]
  },
  {
   "cell_type": "code",
   "execution_count": null,
   "metadata": {
    "ExecuteTime": {
     "end_time": "2020-06-22T15:17:43.680339Z",
     "start_time": "2020-06-22T15:17:43.666169Z"
    }
   },
   "outputs": [],
   "source": [
    "np.asarray(real_data).shape"
   ]
  },
  {
   "cell_type": "code",
   "execution_count": null,
   "metadata": {
    "ExecuteTime": {
     "end_time": "2020-06-22T15:17:43.696196Z",
     "start_time": "2020-06-22T15:17:43.681574Z"
    }
   },
   "outputs": [],
   "source": [
    "synthetic_data = np.load(path / f'experiment_{experiment:02d}' / 'generated_data.npy')\n",
    "synthetic_data.shape"
   ]
  },
  {
   "cell_type": "code",
   "execution_count": null,
   "metadata": {
    "ExecuteTime": {
     "end_time": "2020-06-22T15:17:43.709862Z",
     "start_time": "2020-06-22T15:17:43.697349Z"
    }
   },
   "outputs": [],
   "source": [
    "real_data = real_data[:synthetic_data.shape[0]]"
   ]
  },
  {
   "cell_type": "markdown",
   "metadata": {},
   "source": [
    "# Prepare Sample"
   ]
  },
  {
   "cell_type": "code",
   "execution_count": null,
   "metadata": {
    "ExecuteTime": {
     "end_time": "2020-06-22T15:17:43.717005Z",
     "start_time": "2020-06-22T15:17:43.711263Z"
    }
   },
   "outputs": [],
   "source": [
    "sample_size = 250\n",
    "idx = np.random.permutation(len(real_data))[:sample_size]"
   ]
  },
  {
   "cell_type": "code",
   "execution_count": null,
   "metadata": {
    "ExecuteTime": {
     "end_time": "2020-06-22T15:17:43.731359Z",
     "start_time": "2020-06-22T15:17:43.717944Z"
    }
   },
   "outputs": [],
   "source": [
    "# Data preprocessing\n",
    "real_sample = np.asarray(real_data)[idx]\n",
    "synthetic_sample = np.asarray(synthetic_data)[idx]"
   ]
  },
  {
   "cell_type": "code",
   "execution_count": null,
   "metadata": {
    "ExecuteTime": {
     "end_time": "2020-06-22T15:17:43.737363Z",
     "start_time": "2020-06-22T15:17:43.732660Z"
    }
   },
   "outputs": [],
   "source": [
    "real_sample_2d = real_sample.reshape(-1, seq_len)\n",
    "synthetic_sample_2d = synthetic_sample.reshape(-1, seq_len)"
   ]
  },
  {
   "cell_type": "code",
   "execution_count": null,
   "metadata": {
    "ExecuteTime": {
     "end_time": "2020-06-22T15:17:43.746206Z",
     "start_time": "2020-06-22T15:17:43.738394Z"
    }
   },
   "outputs": [],
   "source": [
    "real_sample_2d.shape, synthetic_sample_2d.shape"
   ]
  },
  {
   "cell_type": "markdown",
   "metadata": {},
   "source": [
    "# Visualization in 2D: A Qualitative Assessment of Diversity"
   ]
  },
  {
   "cell_type": "markdown",
   "metadata": {},
   "source": [
    "## Run PCA"
   ]
  },
  {
   "cell_type": "code",
   "execution_count": null,
   "metadata": {
    "ExecuteTime": {
     "end_time": "2020-06-22T15:17:43.846913Z",
     "start_time": "2020-06-22T15:17:43.747395Z"
    }
   },
   "outputs": [],
   "source": [
    "pca = PCA(n_components=2)\n",
    "pca.fit(real_sample_2d)\n",
    "pca_real = (pd.DataFrame(pca.transform(real_sample_2d))\n",
    "            .assign(Data='Real'))\n",
    "pca_synthetic = (pd.DataFrame(pca.transform(synthetic_sample_2d))\n",
    "                 .assign(Data='Synthetic'))\n",
    "pca_result = pca_real.append(pca_synthetic).rename(\n",
    "    columns={0: '1st Component', 1: '2nd Component'})"
   ]
  },
  {
   "cell_type": "markdown",
   "metadata": {},
   "source": [
    "## Run t-SNE"
   ]
  },
  {
   "cell_type": "code",
   "execution_count": null,
   "metadata": {
    "ExecuteTime": {
     "end_time": "2020-06-22T15:17:55.257686Z",
     "start_time": "2020-06-22T15:17:43.849093Z"
    }
   },
   "outputs": [],
   "source": [
    "tsne_data = np.concatenate((real_sample_2d,\n",
    "                            synthetic_sample_2d), axis=0)\n",
    "\n",
    "tsne = TSNE(n_components=2,\n",
    "            verbose=1,\n",
    "            perplexity=40)\n",
    "tsne_result = tsne.fit_transform(tsne_data)"
   ]
  },
  {
   "cell_type": "code",
   "execution_count": null,
   "metadata": {
    "ExecuteTime": {
     "end_time": "2020-06-22T15:17:55.268115Z",
     "start_time": "2020-06-22T15:17:55.259463Z"
    }
   },
   "outputs": [],
   "source": [
    "tsne_result = pd.DataFrame(tsne_result, columns=['X', 'Y']).assign(Data='Real')\n",
    "tsne_result.loc[sample_size*6:, 'Data'] = 'Synthetic'"
   ]
  },
  {
   "cell_type": "markdown",
   "metadata": {},
   "source": [
    "## Plot Result"
   ]
  },
  {
   "cell_type": "code",
   "execution_count": null,
   "metadata": {
    "ExecuteTime": {
     "end_time": "2020-06-22T15:17:55.662524Z",
     "start_time": "2020-06-22T15:17:55.273898Z"
    },
    "scrolled": true
   },
   "outputs": [],
   "source": [
    "fig, axes = plt.subplots(ncols=2, figsize=(14, 5))\n",
    "\n",
    "sns.scatterplot(x='1st Component', y='2nd Component', data=pca_result,\n",
    "                hue='Data', style='Data', ax=axes[0])\n",
    "sns.despine()\n",
    "axes[0].set_title('PCA Result')\n",
    "\n",
    "\n",
    "sns.scatterplot(x='X', y='Y',\n",
    "                data=tsne_result,\n",
    "                hue='Data', \n",
    "                style='Data', \n",
    "                ax=axes[1])\n",
    "sns.despine()\n",
    "for i in [0, 1]:\n",
    "    axes[i].set_xticks([])\n",
    "    axes[i].set_yticks([])\n",
    "\n",
    "axes[1].set_title('t-SNE Result')\n",
    "fig.suptitle('Assessing Diversity: Qualitative Comparison of Real and Synthetic Data Distributions', \n",
    "             fontsize=14)\n",
    "fig.tight_layout()\n",
    "fig.subplots_adjust(top=.88);"
   ]
  },
  {
   "cell_type": "markdown",
   "metadata": {},
   "source": [
    "# Time Series Classification: A quantitative Assessment of Fidelity"
   ]
  },
  {
   "cell_type": "markdown",
   "metadata": {},
   "source": [
    "## Prepare Data"
   ]
  },
  {
   "cell_type": "code",
   "execution_count": null,
   "metadata": {
    "ExecuteTime": {
     "end_time": "2020-06-22T15:17:55.680649Z",
     "start_time": "2020-06-22T15:17:55.663555Z"
    }
   },
   "outputs": [],
   "source": [
    "real_data = get_real_data()\n",
    "real_data = np.array(real_data)[:len(synthetic_data)]\n",
    "real_data.shape"
   ]
  },
  {
   "cell_type": "code",
   "execution_count": null,
   "metadata": {
    "ExecuteTime": {
     "end_time": "2020-06-22T15:17:55.684048Z",
     "start_time": "2020-06-22T15:17:55.681598Z"
    }
   },
   "outputs": [],
   "source": [
    "synthetic_data.shape"
   ]
  },
  {
   "cell_type": "code",
   "execution_count": null,
   "metadata": {
    "ExecuteTime": {
     "end_time": "2020-06-22T15:17:55.691630Z",
     "start_time": "2020-06-22T15:17:55.686412Z"
    }
   },
   "outputs": [],
   "source": [
    "n_series = real_data.shape[0]"
   ]
  },
  {
   "cell_type": "code",
   "execution_count": null,
   "metadata": {
    "ExecuteTime": {
     "end_time": "2020-06-22T15:17:55.700214Z",
     "start_time": "2020-06-22T15:17:55.693009Z"
    }
   },
   "outputs": [],
   "source": [
    "idx = np.arange(n_series)"
   ]
  },
  {
   "cell_type": "code",
   "execution_count": null,
   "metadata": {
    "ExecuteTime": {
     "end_time": "2020-06-22T15:17:55.710290Z",
     "start_time": "2020-06-22T15:17:55.701474Z"
    }
   },
   "outputs": [],
   "source": [
    "n_train = int(.8*n_series)\n",
    "train_idx = idx[:n_train]\n",
    "test_idx = idx[n_train:]"
   ]
  },
  {
   "cell_type": "code",
   "execution_count": null,
   "metadata": {
    "ExecuteTime": {
     "end_time": "2020-06-22T15:17:55.726211Z",
     "start_time": "2020-06-22T15:17:55.714135Z"
    }
   },
   "outputs": [],
   "source": [
    "train_data = np.vstack((real_data[train_idx], \n",
    "                        synthetic_data[train_idx]))\n",
    "test_data = np.vstack((real_data[test_idx], \n",
    "                       synthetic_data[test_idx]))"
   ]
  },
  {
   "cell_type": "code",
   "execution_count": null,
   "metadata": {
    "ExecuteTime": {
     "end_time": "2020-06-22T15:17:55.733797Z",
     "start_time": "2020-06-22T15:17:55.727451Z"
    }
   },
   "outputs": [],
   "source": [
    "n_train, n_test = len(train_idx), len(test_idx)\n",
    "train_labels = np.concatenate((np.ones(n_train),\n",
    "                               np.zeros(n_train)))\n",
    "test_labels = np.concatenate((np.ones(n_test),\n",
    "                              np.zeros(n_test)))"
   ]
  },
  {
   "cell_type": "markdown",
   "metadata": {},
   "source": [
    "## Create Classifier"
   ]
  },
  {
   "cell_type": "code",
   "execution_count": null,
   "metadata": {
    "ExecuteTime": {
     "end_time": "2020-06-22T15:17:56.262655Z",
     "start_time": "2020-06-22T15:17:55.735097Z"
    }
   },
   "outputs": [],
   "source": [
    "ts_classifier = Sequential([GRU(6, input_shape=(24, 6), name='GRU'),\n",
    "                            Dense(1, activation='sigmoid', name='OUT')],\n",
    "                           name='Time_Series_Classifier')"
   ]
  },
  {
   "cell_type": "code",
   "execution_count": null,
   "metadata": {
    "ExecuteTime": {
     "end_time": "2020-06-22T15:17:56.280974Z",
     "start_time": "2020-06-22T15:17:56.264619Z"
    }
   },
   "outputs": [],
   "source": [
    "ts_classifier.compile(loss='binary_crossentropy',\n",
    "                      optimizer='adam',\n",
    "                      metrics=[AUC(name='AUC'), 'accuracy'])"
   ]
  },
  {
   "cell_type": "code",
   "execution_count": null,
   "metadata": {
    "ExecuteTime": {
     "end_time": "2020-06-22T15:17:56.285728Z",
     "start_time": "2020-06-22T15:17:56.282211Z"
    }
   },
   "outputs": [],
   "source": [
    "ts_classifier.summary()"
   ]
  },
  {
   "cell_type": "code",
   "execution_count": null,
   "metadata": {
    "ExecuteTime": {
     "end_time": "2020-06-22T15:18:36.687714Z",
     "start_time": "2020-06-22T15:17:56.286992Z"
    }
   },
   "outputs": [],
   "source": [
    "result = ts_classifier.fit(x=train_data,\n",
    "                           y=train_labels,\n",
    "                           validation_data=(test_data, test_labels),\n",
    "                           epochs=250,\n",
    "                           batch_size=128,\n",
    "                           verbose=0)"
   ]
  },
  {
   "cell_type": "code",
   "execution_count": null,
   "metadata": {
    "ExecuteTime": {
     "end_time": "2020-06-22T15:18:37.098115Z",
     "start_time": "2020-06-22T15:18:36.689977Z"
    }
   },
   "outputs": [],
   "source": [
    "ts_classifier.evaluate(x=test_data, y=test_labels)"
   ]
  },
  {
   "cell_type": "code",
   "execution_count": null,
   "metadata": {
    "ExecuteTime": {
     "end_time": "2020-06-22T15:18:37.105912Z",
     "start_time": "2020-06-22T15:18:37.099158Z"
    }
   },
   "outputs": [],
   "source": [
    "history = pd.DataFrame(result.history)\n",
    "history.info()"
   ]
  },
  {
   "cell_type": "code",
   "execution_count": null,
   "metadata": {
    "ExecuteTime": {
     "end_time": "2020-06-22T15:18:37.134245Z",
     "start_time": "2020-06-22T15:18:37.107074Z"
    }
   },
   "outputs": [],
   "source": [
    "from matplotlib.ticker import FuncFormatter"
   ]
  },
  {
   "cell_type": "code",
   "execution_count": null,
   "metadata": {
    "ExecuteTime": {
     "end_time": "2020-06-22T15:18:37.582860Z",
     "start_time": "2020-06-22T15:18:37.135396Z"
    }
   },
   "outputs": [],
   "source": [
    "sns.set_style('white')\n",
    "fig, axes = plt.subplots(ncols=2, figsize=(14,4))\n",
    "history[['AUC', 'val_AUC']].rename(columns={'AUC': 'Train', 'val_AUC': 'Test'}).plot(ax=axes[1], \n",
    "                                                                                     title='ROC Area under the Curve',\n",
    "                                                                                    style=['-', '--'],\n",
    "                                                                                    xlim=(0, 250))\n",
    "history[['accuracy', 'val_accuracy']].rename(columns={'accuracy': 'Train', 'val_accuracy': 'Test'}).plot(ax=axes[0], \n",
    "                                                                                                         title='Accuracy',\n",
    "                                                                                                        style=['-', '--'],\n",
    "                                                                                                        xlim=(0, 250))\n",
    "for i in [0, 1]:\n",
    "    axes[i].set_xlabel('Epoch')\n",
    "\n",
    "axes[0].yaxis.set_major_formatter(FuncFormatter(lambda y, _: '{:.0%}'.format(y))) \n",
    "axes[0].set_ylabel('Accuracy (%)')\n",
    "axes[1].set_ylabel('AUC')\n",
    "sns.despine()\n",
    "fig.suptitle('Assessing Fidelity: Time Series Classification Performance', fontsize=14)\n",
    "fig.tight_layout()\n",
    "fig.subplots_adjust(top=.85);"
   ]
  },
  {
   "cell_type": "markdown",
   "metadata": {},
   "source": [
    "# Train on Synthetic, test on real: Assessing usefulness"
   ]
  },
  {
   "cell_type": "code",
   "execution_count": null,
   "metadata": {
    "ExecuteTime": {
     "end_time": "2020-06-22T15:18:37.599822Z",
     "start_time": "2020-06-22T15:18:37.584094Z"
    }
   },
   "outputs": [],
   "source": [
    "real_data = get_real_data()\n",
    "real_data = np.array(real_data)[:len(synthetic_data)]"
   ]
  },
  {
   "cell_type": "code",
   "execution_count": null,
   "metadata": {
    "ExecuteTime": {
     "end_time": "2020-06-22T15:18:37.611553Z",
     "start_time": "2020-06-22T15:18:37.600904Z"
    }
   },
   "outputs": [],
   "source": [
    "real_data.shape, synthetic_data.shape"
   ]
  },
  {
   "cell_type": "code",
   "execution_count": null,
   "metadata": {
    "ExecuteTime": {
     "end_time": "2020-06-22T15:18:37.619775Z",
     "start_time": "2020-06-22T15:18:37.614389Z"
    }
   },
   "outputs": [],
   "source": [
    "real_train_data = real_data[train_idx, :23, :]\n",
    "real_train_label = real_data[train_idx, -1, :]\n",
    "\n",
    "real_test_data = real_data[test_idx, :23, :]\n",
    "real_test_label = real_data[test_idx, -1, :]"
   ]
  },
  {
   "cell_type": "code",
   "execution_count": null,
   "metadata": {
    "ExecuteTime": {
     "end_time": "2020-06-22T15:18:37.627036Z",
     "start_time": "2020-06-22T15:18:37.620968Z"
    }
   },
   "outputs": [],
   "source": [
    "real_train_data.shape, real_train_label.shape, real_test_data.shape, real_test_label.shape"
   ]
  },
  {
   "cell_type": "code",
   "execution_count": null,
   "metadata": {
    "ExecuteTime": {
     "end_time": "2020-06-22T15:18:37.634549Z",
     "start_time": "2020-06-22T15:18:37.628124Z"
    }
   },
   "outputs": [],
   "source": [
    "synthetic_train = synthetic_data[:, :23, :]\n",
    "synthetic_label = synthetic_data[:, -1, :]"
   ]
  },
  {
   "cell_type": "code",
   "execution_count": null,
   "metadata": {
    "ExecuteTime": {
     "end_time": "2020-06-22T15:18:37.643280Z",
     "start_time": "2020-06-22T15:18:37.635681Z"
    }
   },
   "outputs": [],
   "source": [
    "synthetic_train.shape, synthetic_label.shape"
   ]
  },
  {
   "cell_type": "code",
   "execution_count": null,
   "metadata": {
    "ExecuteTime": {
     "end_time": "2020-06-22T15:18:37.653201Z",
     "start_time": "2020-06-22T15:18:37.644478Z"
    }
   },
   "outputs": [],
   "source": [
    "def get_model():\n",
    "    model = Sequential([GRU(12, input_shape=(seq_len-1, n_seq)),\n",
    "                        Dense(6)])\n",
    "\n",
    "    model.compile(optimizer=Adam(),\n",
    "                  loss=MeanAbsoluteError(name='MAE'))\n",
    "    return model"
   ]
  },
  {
   "cell_type": "code",
   "execution_count": null,
   "metadata": {
    "ExecuteTime": {
     "end_time": "2020-06-22T15:18:47.114805Z",
     "start_time": "2020-06-22T15:18:37.656770Z"
    }
   },
   "outputs": [],
   "source": [
    "ts_regression = get_model()\n",
    "synthetic_result = ts_regression.fit(x=synthetic_train,\n",
    "                                     y=synthetic_label,\n",
    "                                     validation_data=(\n",
    "                                         real_test_data, \n",
    "                                         real_test_label),\n",
    "                                     epochs=100,\n",
    "                                     batch_size=128,\n",
    "                                     verbose=0)"
   ]
  },
  {
   "cell_type": "code",
   "execution_count": null,
   "metadata": {
    "ExecuteTime": {
     "end_time": "2020-06-22T15:18:54.838847Z",
     "start_time": "2020-06-22T15:18:47.116080Z"
    }
   },
   "outputs": [],
   "source": [
    "ts_regression = get_model()\n",
    "real_result = ts_regression.fit(x=real_train_data,\n",
    "                                y=real_train_label,\n",
    "                                validation_data=(\n",
    "                                    real_test_data, \n",
    "                                    real_test_label),\n",
    "                                epochs=100,\n",
    "                                batch_size=128,\n",
    "                                verbose=0)"
   ]
  },
  {
   "cell_type": "code",
   "execution_count": null,
   "metadata": {
    "ExecuteTime": {
     "end_time": "2020-06-22T15:18:54.845971Z",
     "start_time": "2020-06-22T15:18:54.839965Z"
    }
   },
   "outputs": [],
   "source": [
    "synthetic_result = pd.DataFrame(synthetic_result.history).rename(columns={'loss': 'Train', 'val_loss': 'Test'})\n",
    "real_result = pd.DataFrame(real_result.history).rename(columns={'loss': 'Train', 'val_loss': 'Test'})"
   ]
  },
  {
   "cell_type": "code",
   "execution_count": null,
   "metadata": {
    "ExecuteTime": {
     "end_time": "2020-06-22T15:18:55.735262Z",
     "start_time": "2020-06-22T15:18:54.847140Z"
    }
   },
   "outputs": [],
   "source": [
    "fig, axes = plt.subplots(ncols=2, figsize=(14, 4), sharey=True)\n",
    "synthetic_result.plot(ax=axes[0], title='Train on Synthetic, Test on Real', logy=True, xlim=(0, 100))\n",
    "real_result.plot(ax=axes[1], title='Train on Real, Test on Real', logy=True, xlim=(0, 100))\n",
    "for i in [0, 1]:\n",
    "    axes[i].set_xlabel('Epoch')\n",
    "    axes[i].set_ylabel('Mean Absolute Error (log scale)')\n",
    "\n",
    "sns.despine()\n",
    "fig.suptitle('Assessing Usefulness: Time Series Prediction Performance', fontsize=14)\n",
    "fig.tight_layout()\n",
    "fig.subplots_adjust(top=.85);"
   ]
  }
 ],
 "metadata": {
  "kernelspec": {
   "display_name": "Python 3 (ipykernel)",
   "language": "python",
   "name": "python3"
  },
  "language_info": {
   "codemirror_mode": {
    "name": "ipython",
    "version": 3
   },
   "file_extension": ".py",
   "mimetype": "text/x-python",
   "name": "python",
   "nbconvert_exporter": "python",
   "pygments_lexer": "ipython3",
   "version": "3.10.14"
  },
  "toc": {
   "base_numbering": 1,
   "nav_menu": {},
   "number_sections": true,
   "sideBar": true,
   "skip_h1_title": false,
   "title_cell": "Table of Contents",
   "title_sidebar": "Contents",
   "toc_cell": false,
   "toc_position": {},
   "toc_section_display": true,
   "toc_window_display": true
  }
 },
 "nbformat": 4,
 "nbformat_minor": 4
}
