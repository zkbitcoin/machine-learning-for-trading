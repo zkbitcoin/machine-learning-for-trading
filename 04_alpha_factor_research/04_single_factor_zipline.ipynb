{
 "cells": [
  {
   "cell_type": "markdown",
   "metadata": {},
   "source": [
    "# Zipline Backtest with Single Factor "
   ]
  },
  {
   "cell_type": "markdown",
   "metadata": {},
   "source": [
    "This notebook develops and test a simple mean-reversion factor that measures how much recent performance has deviated from the historical average. Short-term reversal is a common strategy that takes advantage of the weakly predictive pattern that stock price increases are likely to mean-revert back down over horizons from less than a minute to one month."
   ]
  },
  {
   "cell_type": "markdown",
   "metadata": {
    "pycharm": {
     "name": "#%% md\n"
    }
   },
   "source": [
    "## Imports & Settings"
   ]
  },
  {
   "cell_type": "code",
   "execution_count": 1,
   "metadata": {
    "ExecuteTime": {
     "end_time": "2021-04-15T20:03:39.372356Z",
     "start_time": "2021-04-15T20:03:39.366068Z"
    }
   },
   "outputs": [],
   "source": [
    "import warnings\n",
    "warnings.filterwarnings('ignore')"
   ]
  },
  {
   "cell_type": "code",
   "execution_count": 2,
   "metadata": {
    "ExecuteTime": {
     "end_time": "2021-04-15T20:03:39.841933Z",
     "start_time": "2021-04-15T20:03:39.376523Z"
    }
   },
   "outputs": [],
   "source": [
    "%matplotlib inline\n",
    "import matplotlib.pyplot as plt\n",
    "import seaborn as sns"
   ]
  },
  {
   "cell_type": "code",
   "execution_count": 3,
   "metadata": {
    "ExecuteTime": {
     "end_time": "2021-04-15T20:03:39.844642Z",
     "start_time": "2021-04-15T20:03:39.842894Z"
    }
   },
   "outputs": [],
   "source": [
    "sns.set_style('whitegrid')"
   ]
  },
  {
   "cell_type": "markdown",
   "metadata": {},
   "source": [
    "We are first going to illustrate the zipline alpha factor research workflow in an offline environment. In particular, we will develop and test a simple mean-reversion factor that measures how much recent performance has deviated from the historical average. \n",
    "\n",
    "Short-term reversal is a common strategy that takes advantage of the weakly predictive pattern that stock price increases are likely to mean-revert back down over horizons from less than a minute to one month."
   ]
  },
  {
   "cell_type": "markdown",
   "metadata": {},
   "source": [
    "To this end, the factor computes the z-score for the last monthly return relative to the rolling monthly returns over the last year. At this point, we will not place any orders to simply illustrate the implementation of a CustomFactor and record the results during the simulation.\n",
    "\n",
    "After some basic settings, `MeanReversion` subclasses `CustomFactor` and defines a `compute()` method. It creates default inputs of monthly returns over an also default year-long window so that the monthly_return variable will have 252 rows and one column for each security in the Quandl dataset on a given day.\n",
    "\n",
    "The `compute_factors()` method creates a `MeanReversion` factor instance and creates long, short, and ranking pipeline columns. The former two contain Boolean values that could be used to place orders, and the latter reflects that overall ranking to evaluate the overall factor performance. Furthermore, it uses the built-in `AverageDollarVolume` factor to limit the computation to more liquid stocks"
   ]
  },
  {
   "cell_type": "markdown",
   "metadata": {},
   "source": [
    "The result would allow us to place long and short orders. We will see in the next chapter how to build a portfolio by choosing a rebalancing period and adjusting portfolio holdings as new signals arrive."
   ]
  },
  {
   "cell_type": "markdown",
   "metadata": {},
   "source": [
    "- The `initialize()` method registers the compute_factors() pipeline, and the before_trading_start() method ensures the pipeline runs on a daily basis. \n",
    "- The `record()` function adds the pipeline's ranking column as well as the current asset prices to the performance DataFrame returned by the `run_algorithm()` function"
   ]
  },
  {
   "cell_type": "markdown",
   "metadata": {},
   "source": [
    "Run using jupyter notebook extension"
   ]
  },
  {
   "cell_type": "code",
   "execution_count": 4,
   "metadata": {
    "ExecuteTime": {
     "end_time": "2021-04-15T20:03:40.490212Z",
     "start_time": "2021-04-15T20:03:39.845915Z"
    }
   },
   "outputs": [],
   "source": [
    "%load_ext zipline"
   ]
  },
  {
   "cell_type": "markdown",
   "metadata": {},
   "source": [
    "Using the `quandl` bundle instead of the default `quantopian-quandl` because the latter has a bug that requires (manually) fixing the SQL database. If you have a file with benchmark returns you can provide this instead of `--no-benchmark` (see [docs](https://github.com/stefan-jansen/zipline/blob/master/docs/source/whatsnew/1.4.0.txt))."
   ]
  },
  {
   "cell_type": "code",
   "execution_count": 5,
   "metadata": {
    "ExecuteTime": {
     "end_time": "2021-04-15T20:04:32.950056Z",
     "start_time": "2021-04-15T20:03:40.491568Z"
    },
    "scrolled": true
   },
   "outputs": [
    {
     "data": {
      "text/html": [
       "<div>\n",
       "<style scoped>\n",
       "    .dataframe tbody tr th:only-of-type {\n",
       "        vertical-align: middle;\n",
       "    }\n",
       "\n",
       "    .dataframe tbody tr th {\n",
       "        vertical-align: top;\n",
       "    }\n",
       "\n",
       "    .dataframe thead th {\n",
       "        text-align: right;\n",
       "    }\n",
       "</style>\n",
       "<table border=\"1\" class=\"dataframe\">\n",
       "  <thead>\n",
       "    <tr style=\"text-align: right;\">\n",
       "      <th></th>\n",
       "      <th>period_open</th>\n",
       "      <th>period_close</th>\n",
       "      <th>ending_exposure</th>\n",
       "      <th>returns</th>\n",
       "      <th>starting_exposure</th>\n",
       "      <th>positions</th>\n",
       "      <th>transactions</th>\n",
       "      <th>orders</th>\n",
       "      <th>capital_used</th>\n",
       "      <th>short_exposure</th>\n",
       "      <th>...</th>\n",
       "      <th>treasury_period_return</th>\n",
       "      <th>excess_return</th>\n",
       "      <th>max_leverage</th>\n",
       "      <th>max_drawdown</th>\n",
       "      <th>sortino</th>\n",
       "      <th>sharpe</th>\n",
       "      <th>alpha</th>\n",
       "      <th>beta</th>\n",
       "      <th>factor_data</th>\n",
       "      <th>prices</th>\n",
       "    </tr>\n",
       "  </thead>\n",
       "  <tbody>\n",
       "    <tr>\n",
       "      <th>2015-01-02 21:00:00+00:00</th>\n",
       "      <td>2015-01-02 14:31:00+00:00</td>\n",
       "      <td>2015-01-02 21:00:00+00:00</td>\n",
       "      <td>0.000</td>\n",
       "      <td>0.000000</td>\n",
       "      <td>0.000</td>\n",
       "      <td>[]</td>\n",
       "      <td>[]</td>\n",
       "      <td>[]</td>\n",
       "      <td>0.000000e+00</td>\n",
       "      <td>0.000</td>\n",
       "      <td>...</td>\n",
       "      <td>0.0</td>\n",
       "      <td>0.0</td>\n",
       "      <td>0.000000</td>\n",
       "      <td>0.000000</td>\n",
       "      <td>NaN</td>\n",
       "      <td>NaN</td>\n",
       "      <td>None</td>\n",
       "      <td>None</td>\n",
       "      <td>NaN</td>\n",
       "      <td>NaN</td>\n",
       "    </tr>\n",
       "    <tr>\n",
       "      <th>2015-01-05 21:00:00+00:00</th>\n",
       "      <td>2015-01-05 14:31:00+00:00</td>\n",
       "      <td>2015-01-05 21:00:00+00:00</td>\n",
       "      <td>0.000</td>\n",
       "      <td>0.000000</td>\n",
       "      <td>0.000</td>\n",
       "      <td>[]</td>\n",
       "      <td>[]</td>\n",
       "      <td>[{'id': 'd5745b7b8bf04be289870ae009e596ac', 'd...</td>\n",
       "      <td>0.000000e+00</td>\n",
       "      <td>0.000</td>\n",
       "      <td>...</td>\n",
       "      <td>0.0</td>\n",
       "      <td>0.0</td>\n",
       "      <td>0.000000</td>\n",
       "      <td>0.000000</td>\n",
       "      <td>NaN</td>\n",
       "      <td>NaN</td>\n",
       "      <td>None</td>\n",
       "      <td>None</td>\n",
       "      <td>Equity(0 [A])          2707.0\n",
       "Equity(2 [AAL]) ...</td>\n",
       "      <td>Equity(0 [A])           39.800\n",
       "Equity(2 [AAL])...</td>\n",
       "    </tr>\n",
       "    <tr>\n",
       "      <th>2015-01-06 21:00:00+00:00</th>\n",
       "      <td>2015-01-06 14:31:00+00:00</td>\n",
       "      <td>2015-01-06 21:00:00+00:00</td>\n",
       "      <td>3114262.860</td>\n",
       "      <td>-0.000380</td>\n",
       "      <td>0.000</td>\n",
       "      <td>[{'sid': Equity(749 [CVA]), 'amount': 18433, '...</td>\n",
       "      <td>[{'amount': 18433, 'dt': 2015-01-06 21:00:00+0...</td>\n",
       "      <td>[{'id': 'd5745b7b8bf04be289870ae009e596ac', 'd...</td>\n",
       "      <td>-3.118062e+06</td>\n",
       "      <td>-1617262.705</td>\n",
       "      <td>...</td>\n",
       "      <td>0.0</td>\n",
       "      <td>0.0</td>\n",
       "      <td>0.635120</td>\n",
       "      <td>-0.000380</td>\n",
       "      <td>-9.165151</td>\n",
       "      <td>-9.165151</td>\n",
       "      <td>None</td>\n",
       "      <td>None</td>\n",
       "      <td>Equity(0 [A])          2707.0\n",
       "Equity(2 [AAL]) ...</td>\n",
       "      <td>Equity(0 [A])           39.800\n",
       "Equity(2 [AAL])...</td>\n",
       "    </tr>\n",
       "    <tr>\n",
       "      <th>2015-01-07 21:00:00+00:00</th>\n",
       "      <td>2015-01-07 14:31:00+00:00</td>\n",
       "      <td>2015-01-07 21:00:00+00:00</td>\n",
       "      <td>3127113.440</td>\n",
       "      <td>0.001286</td>\n",
       "      <td>3114262.860</td>\n",
       "      <td>[{'sid': Equity(749 [CVA]), 'amount': 18433, '...</td>\n",
       "      <td>[]</td>\n",
       "      <td>[]</td>\n",
       "      <td>0.000000e+00</td>\n",
       "      <td>-1629987.410</td>\n",
       "      <td>...</td>\n",
       "      <td>0.0</td>\n",
       "      <td>0.0</td>\n",
       "      <td>0.638131</td>\n",
       "      <td>-0.000380</td>\n",
       "      <td>18.918320</td>\n",
       "      <td>4.933673</td>\n",
       "      <td>None</td>\n",
       "      <td>None</td>\n",
       "      <td>Equity(0 [A])          2707.0\n",
       "Equity(2 [AAL]) ...</td>\n",
       "      <td>Equity(0 [A])           39.800\n",
       "Equity(2 [AAL])...</td>\n",
       "    </tr>\n",
       "    <tr>\n",
       "      <th>2015-01-08 21:00:00+00:00</th>\n",
       "      <td>2015-01-08 14:31:00+00:00</td>\n",
       "      <td>2015-01-08 21:00:00+00:00</td>\n",
       "      <td>3190835.200</td>\n",
       "      <td>0.006366</td>\n",
       "      <td>3127113.440</td>\n",
       "      <td>[{'sid': Equity(749 [CVA]), 'amount': 18433, '...</td>\n",
       "      <td>[]</td>\n",
       "      <td>[]</td>\n",
       "      <td>0.000000e+00</td>\n",
       "      <td>-1645106.080</td>\n",
       "      <td>...</td>\n",
       "      <td>0.0</td>\n",
       "      <td>0.0</td>\n",
       "      <td>0.643422</td>\n",
       "      <td>-0.000380</td>\n",
       "      <td>135.877107</td>\n",
       "      <td>8.194658</td>\n",
       "      <td>None</td>\n",
       "      <td>None</td>\n",
       "      <td>Equity(0 [A])          2707.0\n",
       "Equity(2 [AAL]) ...</td>\n",
       "      <td>Equity(0 [A])           39.800\n",
       "Equity(2 [AAL])...</td>\n",
       "    </tr>\n",
       "    <tr>\n",
       "      <th>...</th>\n",
       "      <td>...</td>\n",
       "      <td>...</td>\n",
       "      <td>...</td>\n",
       "      <td>...</td>\n",
       "      <td>...</td>\n",
       "      <td>...</td>\n",
       "      <td>...</td>\n",
       "      <td>...</td>\n",
       "      <td>...</td>\n",
       "      <td>...</td>\n",
       "      <td>...</td>\n",
       "      <td>...</td>\n",
       "      <td>...</td>\n",
       "      <td>...</td>\n",
       "      <td>...</td>\n",
       "      <td>...</td>\n",
       "      <td>...</td>\n",
       "      <td>...</td>\n",
       "      <td>...</td>\n",
       "      <td>...</td>\n",
       "      <td>...</td>\n",
       "    </tr>\n",
       "    <tr>\n",
       "      <th>2017-12-22 21:00:00+00:00</th>\n",
       "      <td>2017-12-22 14:31:00+00:00</td>\n",
       "      <td>2017-12-22 21:00:00+00:00</td>\n",
       "      <td>668261.720</td>\n",
       "      <td>-0.001537</td>\n",
       "      <td>685221.750</td>\n",
       "      <td>[{'sid': Equity(672 [CPRT]), 'amount': -10147,...</td>\n",
       "      <td>[]</td>\n",
       "      <td>[]</td>\n",
       "      <td>0.000000e+00</td>\n",
       "      <td>-4598653.320</td>\n",
       "      <td>...</td>\n",
       "      <td>0.0</td>\n",
       "      <td>0.0</td>\n",
       "      <td>1.259576</td>\n",
       "      <td>-0.142578</td>\n",
       "      <td>0.609931</td>\n",
       "      <td>0.406793</td>\n",
       "      <td>None</td>\n",
       "      <td>None</td>\n",
       "      <td>Equity(0 [A])          2393.0\n",
       "Equity(1 [AA])  ...</td>\n",
       "      <td>Equity(0 [A])          67.66\n",
       "Equity(1 [AA])   ...</td>\n",
       "    </tr>\n",
       "    <tr>\n",
       "      <th>2017-12-26 21:00:00+00:00</th>\n",
       "      <td>2017-12-26 14:31:00+00:00</td>\n",
       "      <td>2017-12-26 21:00:00+00:00</td>\n",
       "      <td>624763.750</td>\n",
       "      <td>-0.003947</td>\n",
       "      <td>668261.720</td>\n",
       "      <td>[{'sid': Equity(672 [CPRT]), 'amount': -10147,...</td>\n",
       "      <td>[]</td>\n",
       "      <td>[{'id': 'bdb7f48bbd064364979119935709017f', 'd...</td>\n",
       "      <td>0.000000e+00</td>\n",
       "      <td>-4592983.200</td>\n",
       "      <td>...</td>\n",
       "      <td>0.0</td>\n",
       "      <td>0.0</td>\n",
       "      <td>1.259576</td>\n",
       "      <td>-0.142578</td>\n",
       "      <td>0.587086</td>\n",
       "      <td>0.391704</td>\n",
       "      <td>None</td>\n",
       "      <td>None</td>\n",
       "      <td>Equity(0 [A])          2363.0\n",
       "Equity(1 [AA])  ...</td>\n",
       "      <td>Equity(0 [A])          67.25\n",
       "Equity(1 [AA])   ...</td>\n",
       "    </tr>\n",
       "    <tr>\n",
       "      <th>2017-12-27 21:00:00+00:00</th>\n",
       "      <td>2017-12-27 14:31:00+00:00</td>\n",
       "      <td>2017-12-27 21:00:00+00:00</td>\n",
       "      <td>-1274086.885</td>\n",
       "      <td>0.003758</td>\n",
       "      <td>624763.750</td>\n",
       "      <td>[{'sid': Equity(54 [ADSK]), 'amount': 4230, 'c...</td>\n",
       "      <td>[{'amount': 10147, 'dt': 2017-12-27 21:00:00+0...</td>\n",
       "      <td>[{'id': 'bdb7f48bbd064364979119935709017f', 'd...</td>\n",
       "      <td>1.940099e+06</td>\n",
       "      <td>-5240774.395</td>\n",
       "      <td>...</td>\n",
       "      <td>0.0</td>\n",
       "      <td>0.0</td>\n",
       "      <td>1.259576</td>\n",
       "      <td>-0.142578</td>\n",
       "      <td>0.607626</td>\n",
       "      <td>0.405300</td>\n",
       "      <td>None</td>\n",
       "      <td>None</td>\n",
       "      <td>Equity(0 [A])          2363.0\n",
       "Equity(1 [AA])  ...</td>\n",
       "      <td>Equity(0 [A])          67.25\n",
       "Equity(1 [AA])   ...</td>\n",
       "    </tr>\n",
       "    <tr>\n",
       "      <th>2017-12-28 21:00:00+00:00</th>\n",
       "      <td>2017-12-28 14:31:00+00:00</td>\n",
       "      <td>2017-12-28 21:00:00+00:00</td>\n",
       "      <td>-1191100.685</td>\n",
       "      <td>0.002318</td>\n",
       "      <td>-1274086.885</td>\n",
       "      <td>[{'sid': Equity(54 [ADSK]), 'amount': 4230, 'c...</td>\n",
       "      <td>[{'amount': 2082, 'dt': 2017-12-28 21:00:00+00...</td>\n",
       "      <td>[{'id': 'bb0acb1703844863a0d024461bb27ca4', 'd...</td>\n",
       "      <td>-5.744239e+04</td>\n",
       "      <td>-5158764.315</td>\n",
       "      <td>...</td>\n",
       "      <td>0.0</td>\n",
       "      <td>0.0</td>\n",
       "      <td>1.259576</td>\n",
       "      <td>-0.142578</td>\n",
       "      <td>0.620128</td>\n",
       "      <td>0.413599</td>\n",
       "      <td>None</td>\n",
       "      <td>None</td>\n",
       "      <td>Equity(0 [A])          2363.0\n",
       "Equity(1 [AA])  ...</td>\n",
       "      <td>Equity(0 [A])          67.25\n",
       "Equity(1 [AA])   ...</td>\n",
       "    </tr>\n",
       "    <tr>\n",
       "      <th>2017-12-29 21:00:00+00:00</th>\n",
       "      <td>2017-12-29 14:31:00+00:00</td>\n",
       "      <td>2017-12-29 21:00:00+00:00</td>\n",
       "      <td>-1143802.510</td>\n",
       "      <td>0.004283</td>\n",
       "      <td>-1191100.685</td>\n",
       "      <td>[{'sid': Equity(54 [ADSK]), 'amount': 4230, 'c...</td>\n",
       "      <td>[]</td>\n",
       "      <td>[]</td>\n",
       "      <td>0.000000e+00</td>\n",
       "      <td>-5097704.930</td>\n",
       "      <td>...</td>\n",
       "      <td>0.0</td>\n",
       "      <td>0.0</td>\n",
       "      <td>1.259576</td>\n",
       "      <td>-0.142578</td>\n",
       "      <td>0.643540</td>\n",
       "      <td>0.429063</td>\n",
       "      <td>None</td>\n",
       "      <td>None</td>\n",
       "      <td>Equity(0 [A])          2363.0\n",
       "Equity(1 [AA])  ...</td>\n",
       "      <td>Equity(0 [A])          67.25\n",
       "Equity(1 [AA])   ...</td>\n",
       "    </tr>\n",
       "  </tbody>\n",
       "</table>\n",
       "<p>755 rows × 39 columns</p>\n",
       "</div>"
      ],
      "text/plain": [
       "                                        period_open              period_close  ending_exposure   returns  starting_exposure                                          positions                                       transactions                                             orders  capital_used  short_exposure  ...  treasury_period_return  excess_return  max_leverage  max_drawdown     sortino    sharpe  alpha  beta                                        factor_data                                             prices\n",
       "2015-01-02 21:00:00+00:00 2015-01-02 14:31:00+00:00 2015-01-02 21:00:00+00:00            0.000  0.000000              0.000                                                 []                                                 []                                                 []  0.000000e+00           0.000  ...                     0.0            0.0      0.000000      0.000000         NaN       NaN   None  None                                                NaN                                                NaN\n",
       "2015-01-05 21:00:00+00:00 2015-01-05 14:31:00+00:00 2015-01-05 21:00:00+00:00            0.000  0.000000              0.000                                                 []                                                 []  [{'id': 'd5745b7b8bf04be289870ae009e596ac', 'd...  0.000000e+00           0.000  ...                     0.0            0.0      0.000000      0.000000         NaN       NaN   None  None  Equity(0 [A])          2707.0\n",
       "Equity(2 [AAL]) ...  Equity(0 [A])           39.800\n",
       "Equity(2 [AAL])...\n",
       "2015-01-06 21:00:00+00:00 2015-01-06 14:31:00+00:00 2015-01-06 21:00:00+00:00      3114262.860 -0.000380              0.000  [{'sid': Equity(749 [CVA]), 'amount': 18433, '...  [{'amount': 18433, 'dt': 2015-01-06 21:00:00+0...  [{'id': 'd5745b7b8bf04be289870ae009e596ac', 'd... -3.118062e+06    -1617262.705  ...                     0.0            0.0      0.635120     -0.000380   -9.165151 -9.165151   None  None  Equity(0 [A])          2707.0\n",
       "Equity(2 [AAL]) ...  Equity(0 [A])           39.800\n",
       "Equity(2 [AAL])...\n",
       "2015-01-07 21:00:00+00:00 2015-01-07 14:31:00+00:00 2015-01-07 21:00:00+00:00      3127113.440  0.001286        3114262.860  [{'sid': Equity(749 [CVA]), 'amount': 18433, '...                                                 []                                                 []  0.000000e+00    -1629987.410  ...                     0.0            0.0      0.638131     -0.000380   18.918320  4.933673   None  None  Equity(0 [A])          2707.0\n",
       "Equity(2 [AAL]) ...  Equity(0 [A])           39.800\n",
       "Equity(2 [AAL])...\n",
       "2015-01-08 21:00:00+00:00 2015-01-08 14:31:00+00:00 2015-01-08 21:00:00+00:00      3190835.200  0.006366        3127113.440  [{'sid': Equity(749 [CVA]), 'amount': 18433, '...                                                 []                                                 []  0.000000e+00    -1645106.080  ...                     0.0            0.0      0.643422     -0.000380  135.877107  8.194658   None  None  Equity(0 [A])          2707.0\n",
       "Equity(2 [AAL]) ...  Equity(0 [A])           39.800\n",
       "Equity(2 [AAL])...\n",
       "...                                             ...                       ...              ...       ...                ...                                                ...                                                ...                                                ...           ...             ...  ...                     ...            ...           ...           ...         ...       ...    ...   ...                                                ...                                                ...\n",
       "2017-12-22 21:00:00+00:00 2017-12-22 14:31:00+00:00 2017-12-22 21:00:00+00:00       668261.720 -0.001537         685221.750  [{'sid': Equity(672 [CPRT]), 'amount': -10147,...                                                 []                                                 []  0.000000e+00    -4598653.320  ...                     0.0            0.0      1.259576     -0.142578    0.609931  0.406793   None  None  Equity(0 [A])          2393.0\n",
       "Equity(1 [AA])  ...  Equity(0 [A])          67.66\n",
       "Equity(1 [AA])   ...\n",
       "2017-12-26 21:00:00+00:00 2017-12-26 14:31:00+00:00 2017-12-26 21:00:00+00:00       624763.750 -0.003947         668261.720  [{'sid': Equity(672 [CPRT]), 'amount': -10147,...                                                 []  [{'id': 'bdb7f48bbd064364979119935709017f', 'd...  0.000000e+00    -4592983.200  ...                     0.0            0.0      1.259576     -0.142578    0.587086  0.391704   None  None  Equity(0 [A])          2363.0\n",
       "Equity(1 [AA])  ...  Equity(0 [A])          67.25\n",
       "Equity(1 [AA])   ...\n",
       "2017-12-27 21:00:00+00:00 2017-12-27 14:31:00+00:00 2017-12-27 21:00:00+00:00     -1274086.885  0.003758         624763.750  [{'sid': Equity(54 [ADSK]), 'amount': 4230, 'c...  [{'amount': 10147, 'dt': 2017-12-27 21:00:00+0...  [{'id': 'bdb7f48bbd064364979119935709017f', 'd...  1.940099e+06    -5240774.395  ...                     0.0            0.0      1.259576     -0.142578    0.607626  0.405300   None  None  Equity(0 [A])          2363.0\n",
       "Equity(1 [AA])  ...  Equity(0 [A])          67.25\n",
       "Equity(1 [AA])   ...\n",
       "2017-12-28 21:00:00+00:00 2017-12-28 14:31:00+00:00 2017-12-28 21:00:00+00:00     -1191100.685  0.002318       -1274086.885  [{'sid': Equity(54 [ADSK]), 'amount': 4230, 'c...  [{'amount': 2082, 'dt': 2017-12-28 21:00:00+00...  [{'id': 'bb0acb1703844863a0d024461bb27ca4', 'd... -5.744239e+04    -5158764.315  ...                     0.0            0.0      1.259576     -0.142578    0.620128  0.413599   None  None  Equity(0 [A])          2363.0\n",
       "Equity(1 [AA])  ...  Equity(0 [A])          67.25\n",
       "Equity(1 [AA])   ...\n",
       "2017-12-29 21:00:00+00:00 2017-12-29 14:31:00+00:00 2017-12-29 21:00:00+00:00     -1143802.510  0.004283       -1191100.685  [{'sid': Equity(54 [ADSK]), 'amount': 4230, 'c...                                                 []                                                 []  0.000000e+00    -5097704.930  ...                     0.0            0.0      1.259576     -0.142578    0.643540  0.429063   None  None  Equity(0 [A])          2363.0\n",
       "Equity(1 [AA])  ...  Equity(0 [A])          67.25\n",
       "Equity(1 [AA])   ...\n",
       "\n",
       "[755 rows x 39 columns]"
      ]
     },
     "execution_count": 5,
     "metadata": {},
     "output_type": "execute_result"
    }
   ],
   "source": [
    "%%zipline --start 2015-1-1 --end 2018-1-1 --output single_factor.pickle --no-benchmark --bundle quandl\n",
    "\n",
    "from zipline.api import (\n",
    "    attach_pipeline,\n",
    "    date_rules,\n",
    "    time_rules,\n",
    "    order_target_percent,\n",
    "    pipeline_output,\n",
    "    record,\n",
    "    schedule_function,\n",
    "    get_open_orders,\n",
    "    calendars\n",
    ")\n",
    "from zipline.finance import commission, slippage\n",
    "from zipline.pipeline import Pipeline, CustomFactor\n",
    "from zipline.pipeline.factors import Returns, AverageDollarVolume\n",
    "import numpy as np\n",
    "import pandas as pd\n",
    "\n",
    "MONTH = 21\n",
    "YEAR = 12 * MONTH\n",
    "N_LONGS = N_SHORTS = 25\n",
    "VOL_SCREEN = 1000\n",
    "\n",
    "\n",
    "class MeanReversion(CustomFactor):\n",
    "    \"\"\"Compute ratio of latest monthly return to 12m average,\n",
    "       normalized by std dev of monthly returns\"\"\"\n",
    "    inputs = [Returns(window_length=MONTH)]\n",
    "    window_length = YEAR\n",
    "\n",
    "    def compute(self, today, assets, out, monthly_returns):\n",
    "        df = pd.DataFrame(monthly_returns)\n",
    "        out[:] = df.iloc[-1].sub(df.mean()).div(df.std())\n",
    "\n",
    "\n",
    "def compute_factors():\n",
    "    \"\"\"Create factor pipeline incl. mean reversion,\n",
    "        filtered by 30d Dollar Volume; capture factor ranks\"\"\"\n",
    "    mean_reversion = MeanReversion()\n",
    "    dollar_volume = AverageDollarVolume(window_length=30)\n",
    "    return Pipeline(columns={'longs': mean_reversion.bottom(N_LONGS),\n",
    "                             'shorts': mean_reversion.top(N_SHORTS),\n",
    "                             'ranking': mean_reversion.rank(ascending=False)},\n",
    "                    screen=dollar_volume.top(VOL_SCREEN))\n",
    "\n",
    "\n",
    "def exec_trades(data, assets, target_percent):\n",
    "    \"\"\"Place orders for assets using target portfolio percentage\"\"\"\n",
    "    for asset in assets:\n",
    "        if data.can_trade(asset) and not get_open_orders(asset):\n",
    "            order_target_percent(asset, target_percent)\n",
    "\n",
    "\n",
    "def rebalance(context, data):\n",
    "    \"\"\"Compute long, short and obsolete holdings; place trade orders\"\"\"\n",
    "    factor_data = context.factor_data\n",
    "    record(factor_data=factor_data.ranking)\n",
    "\n",
    "    assets = factor_data.index\n",
    "    record(prices=data.current(assets, 'price'))\n",
    "\n",
    "    longs = assets[factor_data.longs]\n",
    "    shorts = assets[factor_data.shorts]\n",
    "    divest = set(context.portfolio.positions.keys()) - set(longs.union(shorts))\n",
    "\n",
    "    exec_trades(data, assets=divest, target_percent=0)\n",
    "    exec_trades(data, assets=longs, target_percent=1 / N_LONGS)\n",
    "    exec_trades(data, assets=shorts, target_percent=-1 / N_SHORTS)\n",
    "\n",
    "\n",
    "def initialize(context):\n",
    "    \"\"\"Setup: register pipeline, schedule rebalancing,\n",
    "        and set trading params\"\"\"\n",
    "    attach_pipeline(compute_factors(), 'factor_pipeline')\n",
    "    schedule_function(rebalance,\n",
    "                      date_rules.week_start(),\n",
    "                      time_rules.market_open(),\n",
    "                      calendar=calendars.US_EQUITIES)\n",
    "    context.set_commission(commission.PerShare(cost=.01, min_trade_cost=0))\n",
    "    context.set_slippage(slippage.VolumeShareSlippage())\n",
    "\n",
    "\n",
    "def before_trading_start(context, data):\n",
    "    \"\"\"Run factor pipeline\"\"\"\n",
    "    context.factor_data = pipeline_output('factor_pipeline')"
   ]
  },
  {
   "cell_type": "markdown",
   "metadata": {},
   "source": [
    "## Inspect Results"
   ]
  },
  {
   "cell_type": "markdown",
   "metadata": {},
   "source": [
    "We can get the result `DataFrame` using `_` which captures the last cell output (only works when you run it right after the above cell)"
   ]
  },
  {
   "cell_type": "code",
   "execution_count": 6,
   "metadata": {
    "ExecuteTime": {
     "end_time": "2021-04-15T20:04:32.952603Z",
     "start_time": "2021-04-15T20:04:32.950968Z"
    }
   },
   "outputs": [],
   "source": [
    "result = _"
   ]
  },
  {
   "cell_type": "code",
   "execution_count": 7,
   "metadata": {
    "ExecuteTime": {
     "end_time": "2021-04-15T20:04:32.970108Z",
     "start_time": "2021-04-15T20:04:32.953503Z"
    }
   },
   "outputs": [
    {
     "name": "stdout",
     "output_type": "stream",
     "text": [
      "<class 'pandas.core.frame.DataFrame'>\n",
      "DatetimeIndex: 755 entries, 2015-01-02 21:00:00+00:00 to 2017-12-29 21:00:00+00:00\n",
      "Data columns (total 39 columns):\n",
      " #   Column                   Non-Null Count  Dtype              \n",
      "---  ------                   --------------  -----              \n",
      " 0   period_open              755 non-null    datetime64[ns, UTC]\n",
      " 1   period_close             755 non-null    datetime64[ns, UTC]\n",
      " 2   ending_exposure          755 non-null    float64            \n",
      " 3   returns                  755 non-null    float64            \n",
      " 4   starting_exposure        755 non-null    float64            \n",
      " 5   positions                755 non-null    object             \n",
      " 6   transactions             755 non-null    object             \n",
      " 7   orders                   755 non-null    object             \n",
      " 8   capital_used             755 non-null    float64            \n",
      " 9   short_exposure           755 non-null    float64            \n",
      " 10  pnl                      755 non-null    float64            \n",
      " 11  long_exposure            755 non-null    float64            \n",
      " 12  short_value              755 non-null    float64            \n",
      " 13  long_value               755 non-null    float64            \n",
      " 14  shorts_count             755 non-null    int64              \n",
      " 15  longs_count              755 non-null    int64              \n",
      " 16  portfolio_value          755 non-null    float64            \n",
      " 17  ending_cash              755 non-null    float64            \n",
      " 18  net_leverage             755 non-null    float64            \n",
      " 19  starting_cash            755 non-null    float64            \n",
      " 20  gross_leverage           755 non-null    float64            \n",
      " 21  ending_value             755 non-null    float64            \n",
      " 22  starting_value           755 non-null    float64            \n",
      " 23  algorithm_period_return  755 non-null    float64            \n",
      " 24  benchmark_period_return  755 non-null    float64            \n",
      " 25  benchmark_volatility     754 non-null    float64            \n",
      " 26  algo_volatility          754 non-null    float64            \n",
      " 27  period_label             755 non-null    object             \n",
      " 28  trading_days             755 non-null    int64              \n",
      " 29  treasury_period_return   755 non-null    float64            \n",
      " 30  excess_return            755 non-null    float64            \n",
      " 31  max_leverage             755 non-null    float64            \n",
      " 32  max_drawdown             755 non-null    float64            \n",
      " 33  sortino                  753 non-null    float64            \n",
      " 34  sharpe                   753 non-null    float64            \n",
      " 35  alpha                    0 non-null      object             \n",
      " 36  beta                     0 non-null      object             \n",
      " 37  factor_data              754 non-null    object             \n",
      " 38  prices                   754 non-null    object             \n",
      "dtypes: datetime64[ns, UTC](2), float64(26), int64(3), object(8)\n",
      "memory usage: 235.9+ KB\n"
     ]
    }
   ],
   "source": [
    "result.info()"
   ]
  },
  {
   "cell_type": "code",
   "execution_count": 8,
   "metadata": {
    "ExecuteTime": {
     "end_time": "2021-04-15T20:04:33.445657Z",
     "start_time": "2021-04-15T20:04:32.970905Z"
    }
   },
   "outputs": [
    {
     "data": {
      "image/png": "[encoded data removed]",
      "text/plain": [
       "<Figure size 1400x600 with 2 Axes>"
      ]
     },
     "metadata": {},
     "output_type": "display_data"
    }
   ],
   "source": [
    "fig, axes = plt.subplots(nrows=2, figsize=(14,6))\n",
    "result.algorithm_period_return.plot(ax=axes[0], title='Cumulative Return')\n",
    "result.algo_volatility.plot(ax=axes[1], title='Volatility')\n",
    "sns.despine()\n",
    "fig.tight_layout();"
   ]
  },
  {
   "cell_type": "code",
   "execution_count": null,
   "metadata": {},
   "outputs": [],
   "source": []
  },
  {
   "cell_type": "code",
   "execution_count": null,
   "metadata": {},
   "outputs": [],
   "source": []
  },
  {
   "cell_type": "code",
   "execution_count": null,
   "metadata": {},
   "outputs": [],
   "source": []
  },
  {
   "cell_type": "code",
   "execution_count": null,
   "metadata": {},
   "outputs": [],
   "source": []
  }
 ],
 "metadata": {
  "kernelspec": {
   "display_name": "Python 3 (ipykernel)",
   "language": "python",
   "name": "python3"
  },
  "language_info": {
   "codemirror_mode": {
    "name": "ipython",
    "version": 3
   },
   "file_extension": ".py",
   "mimetype": "text/x-python",
   "name": "python",
   "nbconvert_exporter": "python",
   "pygments_lexer": "ipython3",
   "version": "3.10.15"
  },
  "toc": {
   "base_numbering": 1,
   "nav_menu": {},
   "number_sections": true,
   "sideBar": true,
   "skip_h1_title": true,
   "title_cell": "Table of Contents",
   "title_sidebar": "Contents",
   "toc_cell": false,
   "toc_position": {
    "height": "calc(100% - 180px)",
    "left": "10px",
    "top": "150px",
    "width": "512px"
   },
   "toc_section_display": true,
   "toc_window_display": false
  }
 },
 "nbformat": 4,
 "nbformat_minor": 4
}
